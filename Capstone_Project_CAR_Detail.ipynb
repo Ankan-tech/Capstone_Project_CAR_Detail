{
 "cells": [
  {
   "cell_type": "markdown",
   "metadata": {},
   "source": [
    "### Import the Libraries"
   ]
  },
  {
   "cell_type": "code",
   "execution_count": 1,
   "metadata": {},
   "outputs": [],
   "source": [
    "import numpy as np\n",
    "#numpy alies as np\n",
    "import pandas as pd\n",
    "#pandas alies as pd\n",
    "import matplotlib.pyplot as plt\n",
    "#matplotlib alies as plt\n",
    "import seaborn as sns\n",
    "#seaborn alies as sns"
   ]
  },
  {
   "cell_type": "markdown",
   "metadata": {},
   "source": [
    "#### load the dataset"
   ]
  },
  {
   "cell_type": "code",
   "execution_count": 2,
   "metadata": {},
   "outputs": [
    {
     "data": {
      "text/html": [
       "<div>\n",
       "<style scoped>\n",
       "    .dataframe tbody tr th:only-of-type {\n",
       "        vertical-align: middle;\n",
       "    }\n",
       "\n",
       "    .dataframe tbody tr th {\n",
       "        vertical-align: top;\n",
       "    }\n",
       "\n",
       "    .dataframe thead th {\n",
       "        text-align: right;\n",
       "    }\n",
       "</style>\n",
       "<table border=\"1\" class=\"dataframe\">\n",
       "  <thead>\n",
       "    <tr style=\"text-align: right;\">\n",
       "      <th></th>\n",
       "      <th>name</th>\n",
       "      <th>year</th>\n",
       "      <th>selling_price</th>\n",
       "      <th>km_driven</th>\n",
       "      <th>fuel</th>\n",
       "      <th>seller_type</th>\n",
       "      <th>transmission</th>\n",
       "      <th>owner</th>\n",
       "    </tr>\n",
       "  </thead>\n",
       "  <tbody>\n",
       "    <tr>\n",
       "      <th>0</th>\n",
       "      <td>Maruti 800 AC</td>\n",
       "      <td>2007</td>\n",
       "      <td>60000</td>\n",
       "      <td>70000</td>\n",
       "      <td>Petrol</td>\n",
       "      <td>Individual</td>\n",
       "      <td>Manual</td>\n",
       "      <td>First Owner</td>\n",
       "    </tr>\n",
       "    <tr>\n",
       "      <th>1</th>\n",
       "      <td>Maruti Wagon R LXI Minor</td>\n",
       "      <td>2007</td>\n",
       "      <td>135000</td>\n",
       "      <td>50000</td>\n",
       "      <td>Petrol</td>\n",
       "      <td>Individual</td>\n",
       "      <td>Manual</td>\n",
       "      <td>First Owner</td>\n",
       "    </tr>\n",
       "    <tr>\n",
       "      <th>2</th>\n",
       "      <td>Hyundai Verna 1.6 SX</td>\n",
       "      <td>2012</td>\n",
       "      <td>600000</td>\n",
       "      <td>100000</td>\n",
       "      <td>Diesel</td>\n",
       "      <td>Individual</td>\n",
       "      <td>Manual</td>\n",
       "      <td>First Owner</td>\n",
       "    </tr>\n",
       "    <tr>\n",
       "      <th>3</th>\n",
       "      <td>Datsun RediGO T Option</td>\n",
       "      <td>2017</td>\n",
       "      <td>250000</td>\n",
       "      <td>46000</td>\n",
       "      <td>Petrol</td>\n",
       "      <td>Individual</td>\n",
       "      <td>Manual</td>\n",
       "      <td>First Owner</td>\n",
       "    </tr>\n",
       "    <tr>\n",
       "      <th>4</th>\n",
       "      <td>Honda Amaze VX i-DTEC</td>\n",
       "      <td>2014</td>\n",
       "      <td>450000</td>\n",
       "      <td>141000</td>\n",
       "      <td>Diesel</td>\n",
       "      <td>Individual</td>\n",
       "      <td>Manual</td>\n",
       "      <td>Second Owner</td>\n",
       "    </tr>\n",
       "  </tbody>\n",
       "</table>\n",
       "</div>"
      ],
      "text/plain": [
       "                       name  year  selling_price  km_driven    fuel  \\\n",
       "0             Maruti 800 AC  2007          60000      70000  Petrol   \n",
       "1  Maruti Wagon R LXI Minor  2007         135000      50000  Petrol   \n",
       "2      Hyundai Verna 1.6 SX  2012         600000     100000  Diesel   \n",
       "3    Datsun RediGO T Option  2017         250000      46000  Petrol   \n",
       "4     Honda Amaze VX i-DTEC  2014         450000     141000  Diesel   \n",
       "\n",
       "  seller_type transmission         owner  \n",
       "0  Individual       Manual   First Owner  \n",
       "1  Individual       Manual   First Owner  \n",
       "2  Individual       Manual   First Owner  \n",
       "3  Individual       Manual   First Owner  \n",
       "4  Individual       Manual  Second Owner  "
      ]
     },
     "execution_count": 2,
     "metadata": {},
     "output_type": "execute_result"
    }
   ],
   "source": [
    "df=pd.read_csv('CAR DETAILS.csv')\n",
    "df.head()\n"
   ]
  },
  {
   "cell_type": "code",
   "execution_count": 3,
   "metadata": {},
   "outputs": [
    {
     "data": {
      "text/plain": [
       "(4340, 8)"
      ]
     },
     "execution_count": 3,
     "metadata": {},
     "output_type": "execute_result"
    }
   ],
   "source": [
    "df.shape"
   ]
  },
  {
   "cell_type": "code",
   "execution_count": 4,
   "metadata": {},
   "outputs": [
    {
     "data": {
      "text/plain": [
       "Index(['name', 'year', 'selling_price', 'km_driven', 'fuel', 'seller_type',\n",
       "       'transmission', 'owner'],\n",
       "      dtype='object')"
      ]
     },
     "execution_count": 4,
     "metadata": {},
     "output_type": "execute_result"
    }
   ],
   "source": [
    "df.columns"
   ]
  },
  {
   "cell_type": "code",
   "execution_count": 5,
   "metadata": {},
   "outputs": [
    {
     "name": "stdout",
     "output_type": "stream",
     "text": [
      "<class 'pandas.core.frame.DataFrame'>\n",
      "RangeIndex: 4340 entries, 0 to 4339\n",
      "Data columns (total 8 columns):\n",
      "name             4340 non-null object\n",
      "year             4340 non-null int64\n",
      "selling_price    4340 non-null int64\n",
      "km_driven        4340 non-null int64\n",
      "fuel             4340 non-null object\n",
      "seller_type      4340 non-null object\n",
      "transmission     4340 non-null object\n",
      "owner            4340 non-null object\n",
      "dtypes: int64(3), object(5)\n",
      "memory usage: 271.3+ KB\n"
     ]
    }
   ],
   "source": [
    "df.info()"
   ]
  },
  {
   "cell_type": "markdown",
   "metadata": {},
   "source": [
    "#### Checking the datatype"
   ]
  },
  {
   "cell_type": "code",
   "execution_count": 6,
   "metadata": {},
   "outputs": [
    {
     "data": {
      "text/plain": [
       "name             object\n",
       "year              int64\n",
       "selling_price     int64\n",
       "km_driven         int64\n",
       "fuel             object\n",
       "seller_type      object\n",
       "transmission     object\n",
       "owner            object\n",
       "dtype: object"
      ]
     },
     "execution_count": 6,
     "metadata": {},
     "output_type": "execute_result"
    }
   ],
   "source": [
    "df.dtypes"
   ]
  },
  {
   "cell_type": "markdown",
   "metadata": {},
   "source": [
    "#### Correlation"
   ]
  },
  {
   "cell_type": "code",
   "execution_count": 7,
   "metadata": {},
   "outputs": [
    {
     "data": {
      "text/html": [
       "<div>\n",
       "<style scoped>\n",
       "    .dataframe tbody tr th:only-of-type {\n",
       "        vertical-align: middle;\n",
       "    }\n",
       "\n",
       "    .dataframe tbody tr th {\n",
       "        vertical-align: top;\n",
       "    }\n",
       "\n",
       "    .dataframe thead th {\n",
       "        text-align: right;\n",
       "    }\n",
       "</style>\n",
       "<table border=\"1\" class=\"dataframe\">\n",
       "  <thead>\n",
       "    <tr style=\"text-align: right;\">\n",
       "      <th></th>\n",
       "      <th>year</th>\n",
       "      <th>selling_price</th>\n",
       "      <th>km_driven</th>\n",
       "    </tr>\n",
       "  </thead>\n",
       "  <tbody>\n",
       "    <tr>\n",
       "      <th>year</th>\n",
       "      <td>1.000000</td>\n",
       "      <td>0.413922</td>\n",
       "      <td>-0.419688</td>\n",
       "    </tr>\n",
       "    <tr>\n",
       "      <th>selling_price</th>\n",
       "      <td>0.413922</td>\n",
       "      <td>1.000000</td>\n",
       "      <td>-0.192289</td>\n",
       "    </tr>\n",
       "    <tr>\n",
       "      <th>km_driven</th>\n",
       "      <td>-0.419688</td>\n",
       "      <td>-0.192289</td>\n",
       "      <td>1.000000</td>\n",
       "    </tr>\n",
       "  </tbody>\n",
       "</table>\n",
       "</div>"
      ],
      "text/plain": [
       "                   year  selling_price  km_driven\n",
       "year           1.000000       0.413922  -0.419688\n",
       "selling_price  0.413922       1.000000  -0.192289\n",
       "km_driven     -0.419688      -0.192289   1.000000"
      ]
     },
     "execution_count": 7,
     "metadata": {},
     "output_type": "execute_result"
    }
   ],
   "source": [
    "df.corr()"
   ]
  },
  {
   "cell_type": "markdown",
   "metadata": {},
   "source": [
    "#### Checking the null values"
   ]
  },
  {
   "cell_type": "code",
   "execution_count": 8,
   "metadata": {},
   "outputs": [
    {
     "data": {
      "text/plain": [
       "name             0\n",
       "year             0\n",
       "selling_price    0\n",
       "km_driven        0\n",
       "fuel             0\n",
       "seller_type      0\n",
       "transmission     0\n",
       "owner            0\n",
       "dtype: int64"
      ]
     },
     "execution_count": 8,
     "metadata": {},
     "output_type": "execute_result"
    }
   ],
   "source": [
    "df.isnull().sum()"
   ]
  },
  {
   "cell_type": "markdown",
   "metadata": {},
   "source": [
    "### Explorary Data Analysis"
   ]
  },
  {
   "cell_type": "code",
   "execution_count": 9,
   "metadata": {},
   "outputs": [
    {
     "data": {
      "text/plain": [
       "name             1491\n",
       "year               27\n",
       "selling_price     445\n",
       "km_driven         770\n",
       "fuel                5\n",
       "seller_type         3\n",
       "transmission        2\n",
       "owner               5\n",
       "dtype: int64"
      ]
     },
     "execution_count": 9,
     "metadata": {},
     "output_type": "execute_result"
    }
   ],
   "source": [
    "df.nunique()"
   ]
  },
  {
   "cell_type": "code",
   "execution_count": 10,
   "metadata": {},
   "outputs": [
    {
     "data": {
      "text/plain": [
       "1491"
      ]
     },
     "execution_count": 10,
     "metadata": {},
     "output_type": "execute_result"
    }
   ],
   "source": [
    "df['name'].nunique()"
   ]
  },
  {
   "cell_type": "code",
   "execution_count": 11,
   "metadata": {},
   "outputs": [
    {
     "data": {
      "text/plain": [
       "0       Maruti 800\n",
       "1     Maruti Wagon\n",
       "2    Hyundai Verna\n",
       "3    Datsun RediGO\n",
       "4      Honda Amaze\n",
       "Name: name, dtype: object"
      ]
     },
     "execution_count": 11,
     "metadata": {},
     "output_type": "execute_result"
    }
   ],
   "source": [
    "df['name']=df['name'].apply(lambda x:' '.join(x.split(' ')[:2]))\n",
    "df['name'].head()"
   ]
  },
  {
   "cell_type": "code",
   "execution_count": 12,
   "metadata": {},
   "outputs": [
    {
     "data": {
      "text/html": [
       "<div>\n",
       "<style scoped>\n",
       "    .dataframe tbody tr th:only-of-type {\n",
       "        vertical-align: middle;\n",
       "    }\n",
       "\n",
       "    .dataframe tbody tr th {\n",
       "        vertical-align: top;\n",
       "    }\n",
       "\n",
       "    .dataframe thead th {\n",
       "        text-align: right;\n",
       "    }\n",
       "</style>\n",
       "<table border=\"1\" class=\"dataframe\">\n",
       "  <thead>\n",
       "    <tr style=\"text-align: right;\">\n",
       "      <th></th>\n",
       "      <th>index</th>\n",
       "      <th>name</th>\n",
       "    </tr>\n",
       "  </thead>\n",
       "  <tbody>\n",
       "    <tr>\n",
       "      <th>0</th>\n",
       "      <td>Maruti Swift</td>\n",
       "      <td>320</td>\n",
       "    </tr>\n",
       "    <tr>\n",
       "      <th>1</th>\n",
       "      <td>Maruti Alto</td>\n",
       "      <td>258</td>\n",
       "    </tr>\n",
       "    <tr>\n",
       "      <th>2</th>\n",
       "      <td>Maruti Wagon</td>\n",
       "      <td>164</td>\n",
       "    </tr>\n",
       "    <tr>\n",
       "      <th>3</th>\n",
       "      <td>Hyundai i20</td>\n",
       "      <td>132</td>\n",
       "    </tr>\n",
       "    <tr>\n",
       "      <th>4</th>\n",
       "      <td>Hyundai Verna</td>\n",
       "      <td>129</td>\n",
       "    </tr>\n",
       "    <tr>\n",
       "      <th>5</th>\n",
       "      <td>Hyundai Grand</td>\n",
       "      <td>112</td>\n",
       "    </tr>\n",
       "    <tr>\n",
       "      <th>6</th>\n",
       "      <td>Hyundai Santro</td>\n",
       "      <td>111</td>\n",
       "    </tr>\n",
       "    <tr>\n",
       "      <th>7</th>\n",
       "      <td>Toyota Innova</td>\n",
       "      <td>102</td>\n",
       "    </tr>\n",
       "    <tr>\n",
       "      <th>8</th>\n",
       "      <td>Hyundai EON</td>\n",
       "      <td>100</td>\n",
       "    </tr>\n",
       "    <tr>\n",
       "      <th>9</th>\n",
       "      <td>Tata Indica</td>\n",
       "      <td>98</td>\n",
       "    </tr>\n",
       "    <tr>\n",
       "      <th>10</th>\n",
       "      <td>Mahindra Scorpio</td>\n",
       "      <td>94</td>\n",
       "    </tr>\n",
       "    <tr>\n",
       "      <th>11</th>\n",
       "      <td>Honda City</td>\n",
       "      <td>93</td>\n",
       "    </tr>\n",
       "    <tr>\n",
       "      <th>12</th>\n",
       "      <td>Ford Figo</td>\n",
       "      <td>84</td>\n",
       "    </tr>\n",
       "    <tr>\n",
       "      <th>13</th>\n",
       "      <td>Hyundai i10</td>\n",
       "      <td>80</td>\n",
       "    </tr>\n",
       "    <tr>\n",
       "      <th>14</th>\n",
       "      <td>Chevrolet Beat</td>\n",
       "      <td>76</td>\n",
       "    </tr>\n",
       "    <tr>\n",
       "      <th>15</th>\n",
       "      <td>Mahindra XUV500</td>\n",
       "      <td>73</td>\n",
       "    </tr>\n",
       "    <tr>\n",
       "      <th>16</th>\n",
       "      <td>Maruti Ertiga</td>\n",
       "      <td>68</td>\n",
       "    </tr>\n",
       "    <tr>\n",
       "      <th>17</th>\n",
       "      <td>Mahindra Bolero</td>\n",
       "      <td>67</td>\n",
       "    </tr>\n",
       "    <tr>\n",
       "      <th>18</th>\n",
       "      <td>Renault KWID</td>\n",
       "      <td>66</td>\n",
       "    </tr>\n",
       "    <tr>\n",
       "      <th>19</th>\n",
       "      <td>Tata Indigo</td>\n",
       "      <td>63</td>\n",
       "    </tr>\n",
       "    <tr>\n",
       "      <th>20</th>\n",
       "      <td>Maruti 800</td>\n",
       "      <td>59</td>\n",
       "    </tr>\n",
       "    <tr>\n",
       "      <th>21</th>\n",
       "      <td>Maruti Zen</td>\n",
       "      <td>59</td>\n",
       "    </tr>\n",
       "    <tr>\n",
       "      <th>22</th>\n",
       "      <td>Honda Amaze</td>\n",
       "      <td>58</td>\n",
       "    </tr>\n",
       "    <tr>\n",
       "      <th>23</th>\n",
       "      <td>Renault Duster</td>\n",
       "      <td>54</td>\n",
       "    </tr>\n",
       "    <tr>\n",
       "      <th>24</th>\n",
       "      <td>Hyundai Creta</td>\n",
       "      <td>54</td>\n",
       "    </tr>\n",
       "    <tr>\n",
       "      <th>25</th>\n",
       "      <td>Maruti Baleno</td>\n",
       "      <td>51</td>\n",
       "    </tr>\n",
       "    <tr>\n",
       "      <th>26</th>\n",
       "      <td>Toyota Etios</td>\n",
       "      <td>49</td>\n",
       "    </tr>\n",
       "    <tr>\n",
       "      <th>27</th>\n",
       "      <td>Maruti SX4</td>\n",
       "      <td>45</td>\n",
       "    </tr>\n",
       "    <tr>\n",
       "      <th>28</th>\n",
       "      <td>Volkswagen Polo</td>\n",
       "      <td>41</td>\n",
       "    </tr>\n",
       "    <tr>\n",
       "      <th>29</th>\n",
       "      <td>Volkswagen Vento</td>\n",
       "      <td>39</td>\n",
       "    </tr>\n",
       "    <tr>\n",
       "      <th>...</th>\n",
       "      <td>...</td>\n",
       "      <td>...</td>\n",
       "    </tr>\n",
       "    <tr>\n",
       "      <th>159</th>\n",
       "      <td>Toyota Qualis</td>\n",
       "      <td>1</td>\n",
       "    </tr>\n",
       "    <tr>\n",
       "      <th>160</th>\n",
       "      <td>Tata Venture</td>\n",
       "      <td>1</td>\n",
       "    </tr>\n",
       "    <tr>\n",
       "      <th>161</th>\n",
       "      <td>Maruti S-Presso</td>\n",
       "      <td>1</td>\n",
       "    </tr>\n",
       "    <tr>\n",
       "      <th>162</th>\n",
       "      <td>Isuzu D-Max</td>\n",
       "      <td>1</td>\n",
       "    </tr>\n",
       "    <tr>\n",
       "      <th>163</th>\n",
       "      <td>Volkswagen CrossPolo</td>\n",
       "      <td>1</td>\n",
       "    </tr>\n",
       "    <tr>\n",
       "      <th>164</th>\n",
       "      <td>Audi A5</td>\n",
       "      <td>1</td>\n",
       "    </tr>\n",
       "    <tr>\n",
       "      <th>165</th>\n",
       "      <td>Ford Fusion</td>\n",
       "      <td>1</td>\n",
       "    </tr>\n",
       "    <tr>\n",
       "      <th>166</th>\n",
       "      <td>Volkswagen Passat</td>\n",
       "      <td>1</td>\n",
       "    </tr>\n",
       "    <tr>\n",
       "      <th>167</th>\n",
       "      <td>Kia Seltos</td>\n",
       "      <td>1</td>\n",
       "    </tr>\n",
       "    <tr>\n",
       "      <th>168</th>\n",
       "      <td>Mercedes-Benz B</td>\n",
       "      <td>1</td>\n",
       "    </tr>\n",
       "    <tr>\n",
       "      <th>169</th>\n",
       "      <td>Mitsubishi Montero</td>\n",
       "      <td>1</td>\n",
       "    </tr>\n",
       "    <tr>\n",
       "      <th>170</th>\n",
       "      <td>Mahindra Alturas</td>\n",
       "      <td>1</td>\n",
       "    </tr>\n",
       "    <tr>\n",
       "      <th>171</th>\n",
       "      <td>Ambassador Grand</td>\n",
       "      <td>1</td>\n",
       "    </tr>\n",
       "    <tr>\n",
       "      <th>172</th>\n",
       "      <td>Mahindra NuvoSport</td>\n",
       "      <td>1</td>\n",
       "    </tr>\n",
       "    <tr>\n",
       "      <th>173</th>\n",
       "      <td>Tata Winger</td>\n",
       "      <td>1</td>\n",
       "    </tr>\n",
       "    <tr>\n",
       "      <th>174</th>\n",
       "      <td>Volvo V40</td>\n",
       "      <td>1</td>\n",
       "    </tr>\n",
       "    <tr>\n",
       "      <th>175</th>\n",
       "      <td>Datsun redi-GO</td>\n",
       "      <td>1</td>\n",
       "    </tr>\n",
       "    <tr>\n",
       "      <th>176</th>\n",
       "      <td>Mahindra Ingenio</td>\n",
       "      <td>1</td>\n",
       "    </tr>\n",
       "    <tr>\n",
       "      <th>177</th>\n",
       "      <td>Maruti Grand</td>\n",
       "      <td>1</td>\n",
       "    </tr>\n",
       "    <tr>\n",
       "      <th>178</th>\n",
       "      <td>Renault Triber</td>\n",
       "      <td>1</td>\n",
       "    </tr>\n",
       "    <tr>\n",
       "      <th>179</th>\n",
       "      <td>OpelCorsa 1.4</td>\n",
       "      <td>1</td>\n",
       "    </tr>\n",
       "    <tr>\n",
       "      <th>180</th>\n",
       "      <td>OpelCorsa 1.6Gls</td>\n",
       "      <td>1</td>\n",
       "    </tr>\n",
       "    <tr>\n",
       "      <th>181</th>\n",
       "      <td>Mercedes-Benz S-Class</td>\n",
       "      <td>1</td>\n",
       "    </tr>\n",
       "    <tr>\n",
       "      <th>182</th>\n",
       "      <td>Jaguar XJ</td>\n",
       "      <td>1</td>\n",
       "    </tr>\n",
       "    <tr>\n",
       "      <th>183</th>\n",
       "      <td>Ambassador Classic</td>\n",
       "      <td>1</td>\n",
       "    </tr>\n",
       "    <tr>\n",
       "      <th>184</th>\n",
       "      <td>Fiat 500</td>\n",
       "      <td>1</td>\n",
       "    </tr>\n",
       "    <tr>\n",
       "      <th>185</th>\n",
       "      <td>Nissan X-Trail</td>\n",
       "      <td>1</td>\n",
       "    </tr>\n",
       "    <tr>\n",
       "      <th>186</th>\n",
       "      <td>Force One</td>\n",
       "      <td>1</td>\n",
       "    </tr>\n",
       "    <tr>\n",
       "      <th>187</th>\n",
       "      <td>Mercedes-Benz GLS</td>\n",
       "      <td>1</td>\n",
       "    </tr>\n",
       "    <tr>\n",
       "      <th>188</th>\n",
       "      <td>Renault Koleos</td>\n",
       "      <td>1</td>\n",
       "    </tr>\n",
       "  </tbody>\n",
       "</table>\n",
       "<p>189 rows × 2 columns</p>\n",
       "</div>"
      ],
      "text/plain": [
       "                     index  name\n",
       "0             Maruti Swift   320\n",
       "1              Maruti Alto   258\n",
       "2             Maruti Wagon   164\n",
       "3              Hyundai i20   132\n",
       "4            Hyundai Verna   129\n",
       "5            Hyundai Grand   112\n",
       "6           Hyundai Santro   111\n",
       "7            Toyota Innova   102\n",
       "8              Hyundai EON   100\n",
       "9              Tata Indica    98\n",
       "10        Mahindra Scorpio    94\n",
       "11              Honda City    93\n",
       "12               Ford Figo    84\n",
       "13             Hyundai i10    80\n",
       "14          Chevrolet Beat    76\n",
       "15         Mahindra XUV500    73\n",
       "16           Maruti Ertiga    68\n",
       "17         Mahindra Bolero    67\n",
       "18            Renault KWID    66\n",
       "19             Tata Indigo    63\n",
       "20              Maruti 800    59\n",
       "21              Maruti Zen    59\n",
       "22             Honda Amaze    58\n",
       "23          Renault Duster    54\n",
       "24           Hyundai Creta    54\n",
       "25           Maruti Baleno    51\n",
       "26            Toyota Etios    49\n",
       "27              Maruti SX4    45\n",
       "28         Volkswagen Polo    41\n",
       "29        Volkswagen Vento    39\n",
       "..                     ...   ...\n",
       "159          Toyota Qualis     1\n",
       "160           Tata Venture     1\n",
       "161        Maruti S-Presso     1\n",
       "162            Isuzu D-Max     1\n",
       "163   Volkswagen CrossPolo     1\n",
       "164                Audi A5     1\n",
       "165            Ford Fusion     1\n",
       "166      Volkswagen Passat     1\n",
       "167             Kia Seltos     1\n",
       "168        Mercedes-Benz B     1\n",
       "169     Mitsubishi Montero     1\n",
       "170       Mahindra Alturas     1\n",
       "171       Ambassador Grand     1\n",
       "172     Mahindra NuvoSport     1\n",
       "173            Tata Winger     1\n",
       "174              Volvo V40     1\n",
       "175         Datsun redi-GO     1\n",
       "176       Mahindra Ingenio     1\n",
       "177           Maruti Grand     1\n",
       "178         Renault Triber     1\n",
       "179          OpelCorsa 1.4     1\n",
       "180       OpelCorsa 1.6Gls     1\n",
       "181  Mercedes-Benz S-Class     1\n",
       "182              Jaguar XJ     1\n",
       "183     Ambassador Classic     1\n",
       "184               Fiat 500     1\n",
       "185         Nissan X-Trail     1\n",
       "186              Force One     1\n",
       "187      Mercedes-Benz GLS     1\n",
       "188         Renault Koleos     1\n",
       "\n",
       "[189 rows x 2 columns]"
      ]
     },
     "execution_count": 12,
     "metadata": {},
     "output_type": "execute_result"
    }
   ],
   "source": [
    "r1=df['name'].value_counts().reset_index()\n",
    "r1"
   ]
  },
  {
   "cell_type": "code",
   "execution_count": 13,
   "metadata": {},
   "outputs": [
    {
     "data": {
      "text/plain": [
       "189"
      ]
     },
     "execution_count": 13,
     "metadata": {},
     "output_type": "execute_result"
    }
   ],
   "source": [
    "df['name'].nunique()"
   ]
  },
  {
   "cell_type": "markdown",
   "metadata": {},
   "source": [
    "#### Label Encoder"
   ]
  },
  {
   "cell_type": "code",
   "execution_count": 14,
   "metadata": {},
   "outputs": [],
   "source": [
    "from sklearn.preprocessing import LabelEncoder"
   ]
  },
  {
   "cell_type": "code",
   "execution_count": null,
   "metadata": {},
   "outputs": [],
   "source": []
  },
  {
   "cell_type": "code",
   "execution_count": 15,
   "metadata": {},
   "outputs": [
    {
     "data": {
      "text/plain": [
       "0     97\n",
       "1    117\n",
       "2     69\n",
       "3     27\n",
       "4     47\n",
       "Name: name, dtype: int32"
      ]
     },
     "execution_count": 15,
     "metadata": {},
     "output_type": "execute_result"
    }
   ],
   "source": [
    "lb=LabelEncoder()\n",
    "df['name']=lb.fit_transform(df['name'])\n",
    "df['name'].head()"
   ]
  },
  {
   "cell_type": "code",
   "execution_count": 16,
   "metadata": {},
   "outputs": [
    {
     "data": {
      "text/plain": [
       "0    4\n",
       "1    4\n",
       "2    1\n",
       "3    4\n",
       "4    1\n",
       "Name: fuel, dtype: int32"
      ]
     },
     "execution_count": 16,
     "metadata": {},
     "output_type": "execute_result"
    }
   ],
   "source": [
    "lb=LabelEncoder()\n",
    "df['fuel']=lb.fit_transform(df['fuel'])\n",
    "df['fuel'].head()"
   ]
  },
  {
   "cell_type": "code",
   "execution_count": 17,
   "metadata": {},
   "outputs": [
    {
     "data": {
      "text/plain": [
       "1    2153\n",
       "4    2123\n",
       "0      40\n",
       "3      23\n",
       "2       1\n",
       "Name: fuel, dtype: int64"
      ]
     },
     "execution_count": 17,
     "metadata": {},
     "output_type": "execute_result"
    }
   ],
   "source": [
    "df['fuel'].value_counts()"
   ]
  },
  {
   "cell_type": "code",
   "execution_count": 18,
   "metadata": {},
   "outputs": [
    {
     "data": {
      "text/plain": [
       "0    1\n",
       "1    1\n",
       "2    1\n",
       "3    1\n",
       "4    1\n",
       "Name: seller_type, dtype: int32"
      ]
     },
     "execution_count": 18,
     "metadata": {},
     "output_type": "execute_result"
    }
   ],
   "source": [
    "lb=LabelEncoder()\n",
    "df['seller_type']=lb.fit_transform(df['seller_type'])\n",
    "df['seller_type'].head()"
   ]
  },
  {
   "cell_type": "code",
   "execution_count": 19,
   "metadata": {},
   "outputs": [
    {
     "data": {
      "text/plain": [
       "0    1\n",
       "1    1\n",
       "2    1\n",
       "3    1\n",
       "4    1\n",
       "Name: transmission, dtype: int32"
      ]
     },
     "execution_count": 19,
     "metadata": {},
     "output_type": "execute_result"
    }
   ],
   "source": [
    "lb=LabelEncoder()\n",
    "df['transmission']=lb.fit_transform(df['transmission'])\n",
    "df['transmission'].head()"
   ]
  },
  {
   "cell_type": "code",
   "execution_count": 20,
   "metadata": {},
   "outputs": [
    {
     "data": {
      "text/plain": [
       "0    0\n",
       "1    0\n",
       "2    0\n",
       "3    0\n",
       "4    2\n",
       "Name: owner, dtype: int32"
      ]
     },
     "execution_count": 20,
     "metadata": {},
     "output_type": "execute_result"
    }
   ],
   "source": [
    "lb=LabelEncoder()\n",
    "df['owner']=lb.fit_transform(df['owner'])\n",
    "df['owner'].head()"
   ]
  },
  {
   "cell_type": "code",
   "execution_count": 21,
   "metadata": {},
   "outputs": [
    {
     "data": {
      "text/plain": [
       "name             int32\n",
       "year             int64\n",
       "selling_price    int64\n",
       "km_driven        int64\n",
       "fuel             int32\n",
       "seller_type      int32\n",
       "transmission     int32\n",
       "owner            int32\n",
       "dtype: object"
      ]
     },
     "execution_count": 21,
     "metadata": {},
     "output_type": "execute_result"
    }
   ],
   "source": [
    "df.dtypes"
   ]
  },
  {
   "cell_type": "code",
   "execution_count": 22,
   "metadata": {},
   "outputs": [
    {
     "data": {
      "text/plain": [
       "0     97\n",
       "1    117\n",
       "2     69\n",
       "3     27\n",
       "4     47\n",
       "Name: name, dtype: int32"
      ]
     },
     "execution_count": 22,
     "metadata": {},
     "output_type": "execute_result"
    }
   ],
   "source": [
    "df['name'].astype(int)\n",
    "df['name'].head()"
   ]
  },
  {
   "cell_type": "code",
   "execution_count": 23,
   "metadata": {},
   "outputs": [
    {
     "data": {
      "text/plain": [
       "0    4\n",
       "1    4\n",
       "2    1\n",
       "3    4\n",
       "4    1\n",
       "Name: fuel, dtype: int32"
      ]
     },
     "execution_count": 23,
     "metadata": {},
     "output_type": "execute_result"
    }
   ],
   "source": [
    "df['fuel'].astype(int)\n",
    "df['fuel'].head()"
   ]
  },
  {
   "cell_type": "code",
   "execution_count": 24,
   "metadata": {},
   "outputs": [
    {
     "data": {
      "text/plain": [
       "name             int32\n",
       "year             int64\n",
       "selling_price    int64\n",
       "km_driven        int64\n",
       "fuel             int32\n",
       "seller_type      int32\n",
       "transmission     int32\n",
       "owner            int32\n",
       "dtype: object"
      ]
     },
     "execution_count": 24,
     "metadata": {},
     "output_type": "execute_result"
    }
   ],
   "source": [
    "df.dtypes"
   ]
  },
  {
   "cell_type": "code",
   "execution_count": 25,
   "metadata": {},
   "outputs": [
    {
     "data": {
      "text/html": [
       "<div>\n",
       "<style scoped>\n",
       "    .dataframe tbody tr th:only-of-type {\n",
       "        vertical-align: middle;\n",
       "    }\n",
       "\n",
       "    .dataframe tbody tr th {\n",
       "        vertical-align: top;\n",
       "    }\n",
       "\n",
       "    .dataframe thead th {\n",
       "        text-align: right;\n",
       "    }\n",
       "</style>\n",
       "<table border=\"1\" class=\"dataframe\">\n",
       "  <thead>\n",
       "    <tr style=\"text-align: right;\">\n",
       "      <th></th>\n",
       "      <th>name</th>\n",
       "      <th>year</th>\n",
       "      <th>selling_price</th>\n",
       "      <th>km_driven</th>\n",
       "      <th>fuel</th>\n",
       "      <th>seller_type</th>\n",
       "      <th>transmission</th>\n",
       "      <th>owner</th>\n",
       "    </tr>\n",
       "  </thead>\n",
       "  <tbody>\n",
       "    <tr>\n",
       "      <th>0</th>\n",
       "      <td>97</td>\n",
       "      <td>2007</td>\n",
       "      <td>60000</td>\n",
       "      <td>70000</td>\n",
       "      <td>4</td>\n",
       "      <td>1</td>\n",
       "      <td>1</td>\n",
       "      <td>0</td>\n",
       "    </tr>\n",
       "    <tr>\n",
       "      <th>1</th>\n",
       "      <td>117</td>\n",
       "      <td>2007</td>\n",
       "      <td>135000</td>\n",
       "      <td>50000</td>\n",
       "      <td>4</td>\n",
       "      <td>1</td>\n",
       "      <td>1</td>\n",
       "      <td>0</td>\n",
       "    </tr>\n",
       "    <tr>\n",
       "      <th>2</th>\n",
       "      <td>69</td>\n",
       "      <td>2012</td>\n",
       "      <td>600000</td>\n",
       "      <td>100000</td>\n",
       "      <td>1</td>\n",
       "      <td>1</td>\n",
       "      <td>1</td>\n",
       "      <td>0</td>\n",
       "    </tr>\n",
       "    <tr>\n",
       "      <th>3</th>\n",
       "      <td>27</td>\n",
       "      <td>2017</td>\n",
       "      <td>250000</td>\n",
       "      <td>46000</td>\n",
       "      <td>4</td>\n",
       "      <td>1</td>\n",
       "      <td>1</td>\n",
       "      <td>0</td>\n",
       "    </tr>\n",
       "    <tr>\n",
       "      <th>4</th>\n",
       "      <td>47</td>\n",
       "      <td>2014</td>\n",
       "      <td>450000</td>\n",
       "      <td>141000</td>\n",
       "      <td>1</td>\n",
       "      <td>1</td>\n",
       "      <td>1</td>\n",
       "      <td>2</td>\n",
       "    </tr>\n",
       "  </tbody>\n",
       "</table>\n",
       "</div>"
      ],
      "text/plain": [
       "   name  year  selling_price  km_driven  fuel  seller_type  transmission  \\\n",
       "0    97  2007          60000      70000     4            1             1   \n",
       "1   117  2007         135000      50000     4            1             1   \n",
       "2    69  2012         600000     100000     1            1             1   \n",
       "3    27  2017         250000      46000     4            1             1   \n",
       "4    47  2014         450000     141000     1            1             1   \n",
       "\n",
       "   owner  \n",
       "0      0  \n",
       "1      0  \n",
       "2      0  \n",
       "3      0  \n",
       "4      2  "
      ]
     },
     "execution_count": 25,
     "metadata": {},
     "output_type": "execute_result"
    }
   ],
   "source": [
    "df.head()"
   ]
  },
  {
   "cell_type": "markdown",
   "metadata": {},
   "source": [
    "#### EDA"
   ]
  },
  {
   "cell_type": "code",
   "execution_count": 26,
   "metadata": {},
   "outputs": [
    {
     "data": {
      "image/png": "[encoded data removed]",
      "text/plain": [
       "<Figure size 1440x720 with 1 Axes>"
      ]
     },
     "metadata": {
      "needs_background": "light"
     },
     "output_type": "display_data"
    }
   ],
   "source": [
    "plt.figure(figsize=(20,10))\n",
    "sns.barplot(y=r1['name'],x=r1['index'],palette='CMRmap')\n",
    "plt.title('count of the cars',fontsize='15',color='purple')\n",
    "plt.xlabel('name of the cars')\n",
    "plt.ylabel('counts')\n",
    "plt.xticks(rotation=90)\n",
    "plt.show()"
   ]
  },
  {
   "cell_type": "code",
   "execution_count": 27,
   "metadata": {},
   "outputs": [
    {
     "data": {
      "text/html": [
       "<div>\n",
       "<style scoped>\n",
       "    .dataframe tbody tr th:only-of-type {\n",
       "        vertical-align: middle;\n",
       "    }\n",
       "\n",
       "    .dataframe tbody tr th {\n",
       "        vertical-align: top;\n",
       "    }\n",
       "\n",
       "    .dataframe thead th {\n",
       "        text-align: right;\n",
       "    }\n",
       "</style>\n",
       "<table border=\"1\" class=\"dataframe\">\n",
       "  <thead>\n",
       "    <tr style=\"text-align: right;\">\n",
       "      <th></th>\n",
       "      <th>index</th>\n",
       "      <th>year</th>\n",
       "    </tr>\n",
       "  </thead>\n",
       "  <tbody>\n",
       "    <tr>\n",
       "      <th>0</th>\n",
       "      <td>2017</td>\n",
       "      <td>466</td>\n",
       "    </tr>\n",
       "    <tr>\n",
       "      <th>1</th>\n",
       "      <td>2015</td>\n",
       "      <td>421</td>\n",
       "    </tr>\n",
       "    <tr>\n",
       "      <th>2</th>\n",
       "      <td>2012</td>\n",
       "      <td>415</td>\n",
       "    </tr>\n",
       "    <tr>\n",
       "      <th>3</th>\n",
       "      <td>2013</td>\n",
       "      <td>386</td>\n",
       "    </tr>\n",
       "    <tr>\n",
       "      <th>4</th>\n",
       "      <td>2014</td>\n",
       "      <td>367</td>\n",
       "    </tr>\n",
       "    <tr>\n",
       "      <th>5</th>\n",
       "      <td>2018</td>\n",
       "      <td>366</td>\n",
       "    </tr>\n",
       "    <tr>\n",
       "      <th>6</th>\n",
       "      <td>2016</td>\n",
       "      <td>357</td>\n",
       "    </tr>\n",
       "    <tr>\n",
       "      <th>7</th>\n",
       "      <td>2011</td>\n",
       "      <td>271</td>\n",
       "    </tr>\n",
       "    <tr>\n",
       "      <th>8</th>\n",
       "      <td>2010</td>\n",
       "      <td>234</td>\n",
       "    </tr>\n",
       "    <tr>\n",
       "      <th>9</th>\n",
       "      <td>2019</td>\n",
       "      <td>195</td>\n",
       "    </tr>\n",
       "    <tr>\n",
       "      <th>10</th>\n",
       "      <td>2009</td>\n",
       "      <td>193</td>\n",
       "    </tr>\n",
       "    <tr>\n",
       "      <th>11</th>\n",
       "      <td>2008</td>\n",
       "      <td>145</td>\n",
       "    </tr>\n",
       "    <tr>\n",
       "      <th>12</th>\n",
       "      <td>2007</td>\n",
       "      <td>134</td>\n",
       "    </tr>\n",
       "    <tr>\n",
       "      <th>13</th>\n",
       "      <td>2006</td>\n",
       "      <td>110</td>\n",
       "    </tr>\n",
       "    <tr>\n",
       "      <th>14</th>\n",
       "      <td>2005</td>\n",
       "      <td>85</td>\n",
       "    </tr>\n",
       "    <tr>\n",
       "      <th>15</th>\n",
       "      <td>2020</td>\n",
       "      <td>48</td>\n",
       "    </tr>\n",
       "    <tr>\n",
       "      <th>16</th>\n",
       "      <td>2004</td>\n",
       "      <td>42</td>\n",
       "    </tr>\n",
       "    <tr>\n",
       "      <th>17</th>\n",
       "      <td>2003</td>\n",
       "      <td>23</td>\n",
       "    </tr>\n",
       "    <tr>\n",
       "      <th>18</th>\n",
       "      <td>2002</td>\n",
       "      <td>21</td>\n",
       "    </tr>\n",
       "    <tr>\n",
       "      <th>19</th>\n",
       "      <td>2001</td>\n",
       "      <td>20</td>\n",
       "    </tr>\n",
       "    <tr>\n",
       "      <th>20</th>\n",
       "      <td>1998</td>\n",
       "      <td>12</td>\n",
       "    </tr>\n",
       "    <tr>\n",
       "      <th>21</th>\n",
       "      <td>2000</td>\n",
       "      <td>12</td>\n",
       "    </tr>\n",
       "    <tr>\n",
       "      <th>22</th>\n",
       "      <td>1999</td>\n",
       "      <td>10</td>\n",
       "    </tr>\n",
       "    <tr>\n",
       "      <th>23</th>\n",
       "      <td>1997</td>\n",
       "      <td>3</td>\n",
       "    </tr>\n",
       "    <tr>\n",
       "      <th>24</th>\n",
       "      <td>1996</td>\n",
       "      <td>2</td>\n",
       "    </tr>\n",
       "    <tr>\n",
       "      <th>25</th>\n",
       "      <td>1995</td>\n",
       "      <td>1</td>\n",
       "    </tr>\n",
       "    <tr>\n",
       "      <th>26</th>\n",
       "      <td>1992</td>\n",
       "      <td>1</td>\n",
       "    </tr>\n",
       "  </tbody>\n",
       "</table>\n",
       "</div>"
      ],
      "text/plain": [
       "    index  year\n",
       "0    2017   466\n",
       "1    2015   421\n",
       "2    2012   415\n",
       "3    2013   386\n",
       "4    2014   367\n",
       "5    2018   366\n",
       "6    2016   357\n",
       "7    2011   271\n",
       "8    2010   234\n",
       "9    2019   195\n",
       "10   2009   193\n",
       "11   2008   145\n",
       "12   2007   134\n",
       "13   2006   110\n",
       "14   2005    85\n",
       "15   2020    48\n",
       "16   2004    42\n",
       "17   2003    23\n",
       "18   2002    21\n",
       "19   2001    20\n",
       "20   1998    12\n",
       "21   2000    12\n",
       "22   1999    10\n",
       "23   1997     3\n",
       "24   1996     2\n",
       "25   1995     1\n",
       "26   1992     1"
      ]
     },
     "execution_count": 27,
     "metadata": {},
     "output_type": "execute_result"
    }
   ],
   "source": [
    "r2=df['year'].value_counts().reset_index()\n",
    "r2"
   ]
  },
  {
   "cell_type": "code",
   "execution_count": 28,
   "metadata": {},
   "outputs": [
    {
     "data": {
      "image/png": "[encoded data removed]",
      "text/plain": [
       "<Figure size 1440x720 with 1 Axes>"
      ]
     },
     "metadata": {
      "needs_background": "light"
     },
     "output_type": "display_data"
    }
   ],
   "source": [
    "plt.figure(figsize=(20,10))\n",
    "sns.barplot(x=r2['index'],y=r2['year'],palette='icefire')\n",
    "plt.title('Count of years',fontsize='15',color='blue')\n",
    "plt.xlabel('Year',fontsize='12')\n",
    "plt.ylabel('count',fontsize='12')\n",
    "plt.xticks(rotation=90)\n",
    "plt.show()"
   ]
  },
  {
   "cell_type": "code",
   "execution_count": 29,
   "metadata": {},
   "outputs": [
    {
     "data": {
      "text/html": [
       "<div>\n",
       "<style scoped>\n",
       "    .dataframe tbody tr th:only-of-type {\n",
       "        vertical-align: middle;\n",
       "    }\n",
       "\n",
       "    .dataframe tbody tr th {\n",
       "        vertical-align: top;\n",
       "    }\n",
       "\n",
       "    .dataframe thead th {\n",
       "        text-align: right;\n",
       "    }\n",
       "</style>\n",
       "<table border=\"1\" class=\"dataframe\">\n",
       "  <thead>\n",
       "    <tr style=\"text-align: right;\">\n",
       "      <th></th>\n",
       "      <th>index</th>\n",
       "      <th>name</th>\n",
       "    </tr>\n",
       "  </thead>\n",
       "  <tbody>\n",
       "    <tr>\n",
       "      <th>0</th>\n",
       "      <td>Maruti Swift</td>\n",
       "      <td>320</td>\n",
       "    </tr>\n",
       "    <tr>\n",
       "      <th>1</th>\n",
       "      <td>Maruti Alto</td>\n",
       "      <td>258</td>\n",
       "    </tr>\n",
       "    <tr>\n",
       "      <th>2</th>\n",
       "      <td>Maruti Wagon</td>\n",
       "      <td>164</td>\n",
       "    </tr>\n",
       "    <tr>\n",
       "      <th>3</th>\n",
       "      <td>Hyundai i20</td>\n",
       "      <td>132</td>\n",
       "    </tr>\n",
       "    <tr>\n",
       "      <th>4</th>\n",
       "      <td>Hyundai Verna</td>\n",
       "      <td>129</td>\n",
       "    </tr>\n",
       "  </tbody>\n",
       "</table>\n",
       "</div>"
      ],
      "text/plain": [
       "           index  name\n",
       "0   Maruti Swift   320\n",
       "1    Maruti Alto   258\n",
       "2   Maruti Wagon   164\n",
       "3    Hyundai i20   132\n",
       "4  Hyundai Verna   129"
      ]
     },
     "execution_count": 29,
     "metadata": {},
     "output_type": "execute_result"
    }
   ],
   "source": [
    "top_5=r1.iloc[:5]\n",
    "top_5"
   ]
  },
  {
   "cell_type": "code",
   "execution_count": 30,
   "metadata": {},
   "outputs": [
    {
     "data": {
      "text/plain": [
       "pandas.core.frame.DataFrame"
      ]
     },
     "execution_count": 30,
     "metadata": {},
     "output_type": "execute_result"
    }
   ],
   "source": [
    "type(top_5)"
   ]
  },
  {
   "cell_type": "code",
   "execution_count": 31,
   "metadata": {},
   "outputs": [
    {
     "data": {
      "image/png": "[encoded data removed]",
      "text/plain": [
       "<Figure size 360x360 with 1 Axes>"
      ]
     },
     "metadata": {},
     "output_type": "display_data"
    }
   ],
   "source": [
    "plt.figure(figsize=(5,5))\n",
    "plt.pie(x=top_5['name'],labels=top_5['index'],autopct='%1.1f%%')\n",
    "plt.title('Precentage of top 5 cars in a Year',color='red')\n",
    "plt.show()"
   ]
  },
  {
   "cell_type": "code",
   "execution_count": 32,
   "metadata": {},
   "outputs": [
    {
     "data": {
      "text/html": [
       "<div>\n",
       "<style scoped>\n",
       "    .dataframe tbody tr th:only-of-type {\n",
       "        vertical-align: middle;\n",
       "    }\n",
       "\n",
       "    .dataframe tbody tr th {\n",
       "        vertical-align: top;\n",
       "    }\n",
       "\n",
       "    .dataframe thead th {\n",
       "        text-align: right;\n",
       "    }\n",
       "</style>\n",
       "<table border=\"1\" class=\"dataframe\">\n",
       "  <thead>\n",
       "    <tr style=\"text-align: right;\">\n",
       "      <th></th>\n",
       "      <th>index</th>\n",
       "      <th>year</th>\n",
       "    </tr>\n",
       "  </thead>\n",
       "  <tbody>\n",
       "    <tr>\n",
       "      <th>0</th>\n",
       "      <td>2017</td>\n",
       "      <td>466</td>\n",
       "    </tr>\n",
       "    <tr>\n",
       "      <th>1</th>\n",
       "      <td>2015</td>\n",
       "      <td>421</td>\n",
       "    </tr>\n",
       "    <tr>\n",
       "      <th>2</th>\n",
       "      <td>2012</td>\n",
       "      <td>415</td>\n",
       "    </tr>\n",
       "    <tr>\n",
       "      <th>3</th>\n",
       "      <td>2013</td>\n",
       "      <td>386</td>\n",
       "    </tr>\n",
       "    <tr>\n",
       "      <th>4</th>\n",
       "      <td>2014</td>\n",
       "      <td>367</td>\n",
       "    </tr>\n",
       "  </tbody>\n",
       "</table>\n",
       "</div>"
      ],
      "text/plain": [
       "   index  year\n",
       "0   2017   466\n",
       "1   2015   421\n",
       "2   2012   415\n",
       "3   2013   386\n",
       "4   2014   367"
      ]
     },
     "execution_count": 32,
     "metadata": {},
     "output_type": "execute_result"
    }
   ],
   "source": [
    "top_5_yr=r2.iloc[:5]\n",
    "top_5_yr"
   ]
  },
  {
   "cell_type": "code",
   "execution_count": 33,
   "metadata": {},
   "outputs": [
    {
     "data": {
      "image/png": "[encoded data removed]",
      "text/plain": [
       "<Figure size 360x360 with 1 Axes>"
      ]
     },
     "metadata": {},
     "output_type": "display_data"
    }
   ],
   "source": [
    "plt.figure(figsize=(5,5))\n",
    "plt.pie(x=top_5_yr['year'],labels=top_5_yr['index'],autopct='%1.1f%%')\n",
    "plt.title('Top 5 years of sells')\n",
    "plt.show()"
   ]
  },
  {
   "cell_type": "markdown",
   "metadata": {},
   "source": [
    "#### Correlation"
   ]
  },
  {
   "cell_type": "code",
   "execution_count": null,
   "metadata": {},
   "outputs": [],
   "source": []
  },
  {
   "cell_type": "code",
   "execution_count": 34,
   "metadata": {},
   "outputs": [
    {
     "data": {
      "image/png": "[encoded data removed]",
      "text/plain": [
       "<Figure size 432x432 with 2 Axes>"
      ]
     },
     "metadata": {
      "needs_background": "light"
     },
     "output_type": "display_data"
    }
   ],
   "source": [
    "corr=df.corr()\n",
    "plt.figure(figsize=(6,6))\n",
    "sns.heatmap(corr,annot=True,cmap='coolwarm')\n",
    "plt.show()"
   ]
  },
  {
   "cell_type": "code",
   "execution_count": 35,
   "metadata": {},
   "outputs": [],
   "source": [
    "#no correation found from this data."
   ]
  },
  {
   "cell_type": "code",
   "execution_count": 36,
   "metadata": {},
   "outputs": [
    {
     "data": {
      "text/plain": [
       "1    3244\n",
       "0     994\n",
       "2     102\n",
       "Name: seller_type, dtype: int64"
      ]
     },
     "execution_count": 36,
     "metadata": {},
     "output_type": "execute_result"
    }
   ],
   "source": [
    "df['seller_type'].value_counts()"
   ]
  },
  {
   "cell_type": "code",
   "execution_count": 37,
   "metadata": {},
   "outputs": [
    {
     "data": {
      "image/png": "[encoded data removed]",
      "text/plain": [
       "<Figure size 432x432 with 1 Axes>"
      ]
     },
     "metadata": {
      "needs_background": "light"
     },
     "output_type": "display_data"
    }
   ],
   "source": [
    "plt.figure(figsize=(6,6))\n",
    "sns.countplot(data=df,x='seller_type',palette='icefire')\n",
    "plt.xlabel('Seller type',fontsize=12,color='black')\n",
    "plt.ylabel('Count',fontsize=12,color='black')\n",
    "plt.title('seller counts',fontsize=15,color='blue')\n",
    "plt.show()"
   ]
  },
  {
   "cell_type": "code",
   "execution_count": 38,
   "metadata": {},
   "outputs": [
    {
     "data": {
      "text/plain": [
       "0    2832\n",
       "2    1106\n",
       "4     304\n",
       "1      81\n",
       "3      17\n",
       "Name: owner, dtype: int64"
      ]
     },
     "execution_count": 38,
     "metadata": {},
     "output_type": "execute_result"
    }
   ],
   "source": [
    "df['owner'].value_counts()"
   ]
  },
  {
   "cell_type": "code",
   "execution_count": 39,
   "metadata": {},
   "outputs": [
    {
     "data": {
      "image/png": "[encoded data removed]",
      "text/plain": [
       "<Figure size 432x432 with 1 Axes>"
      ]
     },
     "metadata": {
      "needs_background": "light"
     },
     "output_type": "display_data"
    }
   ],
   "source": [
    "plt.figure(figsize=(6,6))\n",
    "sns.countplot(data=df,x='owner',hue='transmission')\n",
    "plt.xticks(rotation=45)\n",
    "plt.show()"
   ]
  },
  {
   "cell_type": "markdown",
   "metadata": {},
   "source": [
    "#### boxplot of all the cars to find outliers"
   ]
  },
  {
   "cell_type": "code",
   "execution_count": 40,
   "metadata": {},
   "outputs": [
    {
     "data": {
      "image/png": "[encoded data removed]",
      "text/plain": [
       "<Figure size 1800x576 with 1 Axes>"
      ]
     },
     "metadata": {
      "needs_background": "light"
     },
     "output_type": "display_data"
    }
   ],
   "source": [
    "f,ax=plt.subplots(figsize=(25,8))\n",
    "sns.boxplot(x=df['name'],y=df['selling_price'],palette='CMRmap_r',ax=ax)\n",
    "plt.xticks(rotation=90)\n",
    "plt.show()"
   ]
  },
  {
   "cell_type": "markdown",
   "metadata": {},
   "source": [
    "#### Remove Outliers"
   ]
  },
  {
   "cell_type": "code",
   "execution_count": 41,
   "metadata": {},
   "outputs": [],
   "source": [
    "q=df['selling_price'].quantile(0.75)\n",
    "df=df[df['selling_price']<q]"
   ]
  },
  {
   "cell_type": "markdown",
   "metadata": {},
   "source": [
    "#### Feature Standardization"
   ]
  },
  {
   "cell_type": "code",
   "execution_count": null,
   "metadata": {},
   "outputs": [],
   "source": []
  },
  {
   "cell_type": "code",
   "execution_count": null,
   "metadata": {},
   "outputs": [],
   "source": []
  },
  {
   "cell_type": "markdown",
   "metadata": {},
   "source": [
    "#### Selecting the dependent and independent Variable"
   ]
  },
  {
   "cell_type": "code",
   "execution_count": 42,
   "metadata": {},
   "outputs": [
    {
     "name": "stdout",
     "output_type": "stream",
     "text": [
      "<class 'pandas.core.frame.DataFrame'>\n",
      "<class 'pandas.core.series.Series'>\n",
      "(3180, 7)\n",
      "(3180,)\n"
     ]
    }
   ],
   "source": [
    "x=df.drop(['selling_price'],axis=1)\n",
    "y=df['selling_price']\n",
    "print(type(x))\n",
    "print(type(y))\n",
    "print(x.shape)\n",
    "print(y.shape)"
   ]
  },
  {
   "cell_type": "code",
   "execution_count": 43,
   "metadata": {},
   "outputs": [],
   "source": [
    "from sklearn.model_selection import train_test_split"
   ]
  },
  {
   "cell_type": "code",
   "execution_count": 44,
   "metadata": {},
   "outputs": [
    {
     "name": "stdout",
     "output_type": "stream",
     "text": [
      "(2544, 7)\n",
      "(636, 7)\n",
      "(2544,)\n",
      "(636,)\n"
     ]
    }
   ],
   "source": [
    "x_train,x_test,y_train,y_test=train_test_split(x,y,test_size=0.2,random_state=100)\n",
    "print(x_train.shape)\n",
    "print(x_test.shape)\n",
    "print(y_train.shape)\n",
    "print(y_test.shape)"
   ]
  },
  {
   "cell_type": "code",
   "execution_count": 45,
   "metadata": {},
   "outputs": [
    {
     "name": "stdout",
     "output_type": "stream",
     "text": [
      "<class 'pandas.core.frame.DataFrame'> <class 'pandas.core.frame.DataFrame'>\n",
      "<class 'pandas.core.series.Series'> <class 'pandas.core.series.Series'>\n"
     ]
    }
   ],
   "source": [
    "print(type(x_train),type(x_test))\n",
    "print(type(y_train),type(y_test))"
   ]
  },
  {
   "cell_type": "markdown",
   "metadata": {},
   "source": [
    "#### Feature Standardization"
   ]
  },
  {
   "cell_type": "code",
   "execution_count": 46,
   "metadata": {},
   "outputs": [],
   "source": [
    "from sklearn.preprocessing import StandardScaler\n",
    "\n",
    "scaler=StandardScaler()\n",
    "x_train=scaler.fit_transform(x_train)\n",
    "x_test=scaler.fit_transform(x_test)"
   ]
  },
  {
   "cell_type": "code",
   "execution_count": 47,
   "metadata": {},
   "outputs": [],
   "source": [
    "from sklearn.metrics import mean_absolute_error,mean_squared_error,r2_score\n",
    "def reg_eval_metrics(y,ypred):\n",
    "    mae=mean_absolute_error(y,ypred)\n",
    "    mse=mean_squared_error(y,ypred)\n",
    "    rmse=np.sqrt(mean_squared_error(y,ypred))\n",
    "    r2sc=r2_score(y,ypred)\n",
    "    print('mae',mae)\n",
    "    print('mse',mse)\n",
    "    print('rmse',rmse)\n",
    "    print('r2score',r2sc)\n",
    "    \n",
    "#r2 score for training testing data\n",
    "def train_test_scr(model):\n",
    "    print('Training Score',model.score(x_train,y_train))\n",
    "    print('Testing Score',model.score(x_test,y_test))"
   ]
  },
  {
   "cell_type": "markdown",
   "metadata": {},
   "source": [
    "#### Linear Regression"
   ]
  },
  {
   "cell_type": "code",
   "execution_count": 48,
   "metadata": {},
   "outputs": [],
   "source": [
    "from sklearn.linear_model import LinearRegression,Lasso,Ridge"
   ]
  },
  {
   "cell_type": "code",
   "execution_count": 49,
   "metadata": {},
   "outputs": [
    {
     "data": {
      "text/plain": [
       "LinearRegression()"
      ]
     },
     "execution_count": 49,
     "metadata": {},
     "output_type": "execute_result"
    }
   ],
   "source": [
    "m1=LinearRegression()\n",
    "m1.fit(x_train,y_train)"
   ]
  },
  {
   "cell_type": "markdown",
   "metadata": {},
   "source": [
    "#### generate the Prediction"
   ]
  },
  {
   "cell_type": "code",
   "execution_count": 50,
   "metadata": {},
   "outputs": [],
   "source": [
    "ypred=m1.predict(x_test)"
   ]
  },
  {
   "cell_type": "code",
   "execution_count": 51,
   "metadata": {},
   "outputs": [
    {
     "name": "stdout",
     "output_type": "stream",
     "text": [
      "Training Score 0.5118674006391761\n",
      "Testing Score 0.525472972223539\n"
     ]
    }
   ],
   "source": [
    "train_test_scr(m1)"
   ]
  },
  {
   "cell_type": "code",
   "execution_count": 52,
   "metadata": {},
   "outputs": [
    {
     "name": "stdout",
     "output_type": "stream",
     "text": [
      "mae 82921.90317959446\n",
      "mse 10662535806.762583\n",
      "rmse 103259.55552278241\n",
      "r2score 0.525472972223539\n"
     ]
    }
   ],
   "source": [
    "reg_eval_metrics(y_test,ypred)"
   ]
  },
  {
   "cell_type": "code",
   "execution_count": 53,
   "metadata": {},
   "outputs": [],
   "source": [
    "df1=pd.DataFrame()"
   ]
  },
  {
   "cell_type": "code",
   "execution_count": 54,
   "metadata": {},
   "outputs": [
    {
     "data": {
      "text/html": [
       "<div>\n",
       "<style scoped>\n",
       "    .dataframe tbody tr th:only-of-type {\n",
       "        vertical-align: middle;\n",
       "    }\n",
       "\n",
       "    .dataframe tbody tr th {\n",
       "        vertical-align: top;\n",
       "    }\n",
       "\n",
       "    .dataframe thead th {\n",
       "        text-align: right;\n",
       "    }\n",
       "</style>\n",
       "<table border=\"1\" class=\"dataframe\">\n",
       "  <thead>\n",
       "    <tr style=\"text-align: right;\">\n",
       "      <th></th>\n",
       "      <th>y predict</th>\n",
       "    </tr>\n",
       "  </thead>\n",
       "  <tbody>\n",
       "    <tr>\n",
       "      <th>0</th>\n",
       "      <td>276749.857187</td>\n",
       "    </tr>\n",
       "    <tr>\n",
       "      <th>1</th>\n",
       "      <td>133447.789429</td>\n",
       "    </tr>\n",
       "    <tr>\n",
       "      <th>2</th>\n",
       "      <td>346388.934889</td>\n",
       "    </tr>\n",
       "    <tr>\n",
       "      <th>3</th>\n",
       "      <td>377333.364522</td>\n",
       "    </tr>\n",
       "    <tr>\n",
       "      <th>4</th>\n",
       "      <td>328230.675340</td>\n",
       "    </tr>\n",
       "  </tbody>\n",
       "</table>\n",
       "</div>"
      ],
      "text/plain": [
       "       y predict\n",
       "0  276749.857187\n",
       "1  133447.789429\n",
       "2  346388.934889\n",
       "3  377333.364522\n",
       "4  328230.675340"
      ]
     },
     "execution_count": 54,
     "metadata": {},
     "output_type": "execute_result"
    }
   ],
   "source": [
    "df1['y predict']=ypred\n",
    "df1.head()"
   ]
  },
  {
   "cell_type": "markdown",
   "metadata": {},
   "source": [
    "#### Lasso Regression"
   ]
  },
  {
   "cell_type": "code",
   "execution_count": 55,
   "metadata": {},
   "outputs": [
    {
     "data": {
      "text/plain": [
       "Lasso(alpha=10)"
      ]
     },
     "execution_count": 55,
     "metadata": {},
     "output_type": "execute_result"
    }
   ],
   "source": [
    "lasso_reg=Lasso(alpha=10)\n",
    "lasso_reg.fit(x_train,y_train)"
   ]
  },
  {
   "cell_type": "code",
   "execution_count": 56,
   "metadata": {},
   "outputs": [],
   "source": [
    "ypred1=lasso_reg.predict(x_test)"
   ]
  },
  {
   "cell_type": "code",
   "execution_count": 57,
   "metadata": {},
   "outputs": [
    {
     "name": "stdout",
     "output_type": "stream",
     "text": [
      "Training Score 0.5118673720814231\n",
      "Testing Score 0.5254626107901356\n"
     ]
    }
   ],
   "source": [
    "train_test_scr(lasso_reg)"
   ]
  },
  {
   "cell_type": "code",
   "execution_count": 58,
   "metadata": {},
   "outputs": [
    {
     "name": "stdout",
     "output_type": "stream",
     "text": [
      "mae 82925.32165970236\n",
      "mse 10662768626.282244\n",
      "rmse 103260.68286759604\n",
      "r2score 0.5254626107901356\n"
     ]
    }
   ],
   "source": [
    "reg_eval_metrics(y_test,ypred1)"
   ]
  },
  {
   "cell_type": "markdown",
   "metadata": {},
   "source": [
    "#### Ridge Regression"
   ]
  },
  {
   "cell_type": "code",
   "execution_count": 59,
   "metadata": {},
   "outputs": [
    {
     "data": {
      "text/plain": [
       "Ridge(alpha=10)"
      ]
     },
     "execution_count": 59,
     "metadata": {},
     "output_type": "execute_result"
    }
   ],
   "source": [
    "ridge_reg=Ridge(alpha=10)\n",
    "ridge_reg.fit(x_train,y_train)"
   ]
  },
  {
   "cell_type": "code",
   "execution_count": 60,
   "metadata": {},
   "outputs": [],
   "source": [
    "ypred2=ridge_reg.predict(x_test)"
   ]
  },
  {
   "cell_type": "code",
   "execution_count": 61,
   "metadata": {},
   "outputs": [
    {
     "name": "stdout",
     "output_type": "stream",
     "text": [
      "Training Score 0.5118604903002564\n",
      "Testing Score 0.5252613633828254\n"
     ]
    }
   ],
   "source": [
    "train_test_scr(ridge_reg)"
   ]
  },
  {
   "cell_type": "code",
   "execution_count": 62,
   "metadata": {},
   "outputs": [
    {
     "name": "stdout",
     "output_type": "stream",
     "text": [
      "mae 82978.05025427819\n",
      "mse 10667290618.836637\n",
      "rmse 103282.57655014537\n",
      "r2score 0.5252613633828254\n"
     ]
    }
   ],
   "source": [
    "reg_eval_metrics(y_test,ypred2)"
   ]
  },
  {
   "cell_type": "markdown",
   "metadata": {},
   "source": [
    "#### Classification"
   ]
  },
  {
   "cell_type": "code",
   "execution_count": 63,
   "metadata": {},
   "outputs": [],
   "source": [
    "from sklearn.linear_model import LogisticRegression\n",
    "from sklearn.metrics import confusion_matrix,accuracy_score\n",
    "from sklearn.metrics import classification_report"
   ]
  },
  {
   "cell_type": "code",
   "execution_count": 64,
   "metadata": {},
   "outputs": [],
   "source": [
    "def eval_model(y_test,ypred):\n",
    "    cm=confusion_matrix(y_test,ypred)\n",
    "    print(cm)\n",
    "    print('classification report',classification_report(y_test,ypred))\n",
    "    print('accuracy score',accuracy_score(y_test,ypred))\n",
    "    \n",
    "def mscore(model):\n",
    "    print('Training Score',model.score(x_train,y_train))\n",
    "    print('Testing Score',model.score(x_test,y_test))  "
   ]
  },
  {
   "cell_type": "markdown",
   "metadata": {},
   "source": [
    "#### Logistic Regression"
   ]
  },
  {
   "cell_type": "code",
   "execution_count": 65,
   "metadata": {},
   "outputs": [
    {
     "name": "stderr",
     "output_type": "stream",
     "text": [
      "C:\\Users\\HP\\Anaconda3\\lib\\site-packages\\sklearn\\linear_model\\_logistic.py:818: ConvergenceWarning: lbfgs failed to converge (status=1):\n",
      "STOP: TOTAL NO. of ITERATIONS REACHED LIMIT.\n",
      "\n",
      "Increase the number of iterations (max_iter) or scale the data as shown in:\n",
      "    https://scikit-learn.org/stable/modules/preprocessing.html\n",
      "Please also refer to the documentation for alternative solver options:\n",
      "    https://scikit-learn.org/stable/modules/linear_model.html#logistic-regression\n",
      "  extra_warning_msg=_LOGISTIC_SOLVER_CONVERGENCE_MSG,\n"
     ]
    },
    {
     "data": {
      "text/plain": [
       "LogisticRegression()"
      ]
     },
     "execution_count": 65,
     "metadata": {},
     "output_type": "execute_result"
    }
   ],
   "source": [
    "m3=LogisticRegression()\n",
    "m3.fit(x_train,y_train)"
   ]
  },
  {
   "cell_type": "code",
   "execution_count": 66,
   "metadata": {},
   "outputs": [],
   "source": [
    "ypred3=m3.predict(x_test)"
   ]
  },
  {
   "cell_type": "code",
   "execution_count": 67,
   "metadata": {},
   "outputs": [
    {
     "name": "stdout",
     "output_type": "stream",
     "text": [
      "[[0 0 0 ... 0 0 0]\n",
      " [0 0 0 ... 0 0 0]\n",
      " [0 0 0 ... 0 0 0]\n",
      " ...\n",
      " [0 0 0 ... 0 0 0]\n",
      " [0 0 0 ... 0 0 0]\n",
      " [0 0 0 ... 0 0 0]]\n",
      "classification report               precision    recall  f1-score   support\n",
      "\n",
      "       30000       0.00      0.00      0.00         1\n",
      "       35000       0.00      0.00      0.00         1\n",
      "       40000       0.00      0.00      0.00         0\n",
      "       42000       0.00      0.00      0.00         1\n",
      "       45000       0.00      0.00      0.00         1\n",
      "       50000       0.00      0.00      0.00         3\n",
      "       51111       0.00      0.00      0.00         1\n",
      "       52000       0.00      0.00      0.00         2\n",
      "       55000       0.00      0.00      0.00         1\n",
      "       56000       0.00      0.00      0.00         2\n",
      "       57000       0.00      0.00      0.00         1\n",
      "       60000       0.00      0.00      0.00         5\n",
      "       65000       0.00      0.00      0.00         3\n",
      "       68000       0.00      0.00      0.00         1\n",
      "       70000       0.12      0.33      0.18         3\n",
      "       72000       0.00      0.00      0.00         1\n",
      "       75000       0.00      0.00      0.00         6\n",
      "       80000       0.22      0.33      0.27        12\n",
      "       85000       0.00      0.00      0.00         4\n",
      "       88000       0.00      0.00      0.00         1\n",
      "       89999       0.00      0.00      0.00         2\n",
      "       90000       0.00      0.00      0.00         3\n",
      "       92800       0.00      0.00      0.00         1\n",
      "       95000       0.00      0.00      0.00         3\n",
      "      100000       0.13      0.55      0.21        11\n",
      "      105000       0.00      0.00      0.00         4\n",
      "      110000       0.00      0.00      0.00        10\n",
      "      120000       0.27      0.20      0.23        15\n",
      "      125000       0.00      0.00      0.00        14\n",
      "      130000       0.00      0.00      0.00         5\n",
      "      134000       0.00      0.00      0.00         1\n",
      "      135000       0.00      0.00      0.00         2\n",
      "      140000       0.00      0.00      0.00         8\n",
      "      145000       0.00      0.00      0.00         4\n",
      "      149000       0.00      0.00      0.00         1\n",
      "      150000       0.15      0.25      0.18        24\n",
      "      155000       0.00      0.00      0.00         1\n",
      "      160000       0.00      0.00      0.00         9\n",
      "      165000       0.00      0.00      0.00         1\n",
      "      170000       0.00      0.00      0.00        10\n",
      "      175000       0.00      0.00      0.00         7\n",
      "      180000       0.00      0.00      0.00         9\n",
      "      183000       0.00      0.00      0.00         1\n",
      "      185000       0.00      0.00      0.00         4\n",
      "      190000       0.00      0.00      0.00         3\n",
      "      195000       0.00      0.00      0.00         5\n",
      "      199000       0.00      0.00      0.00         1\n",
      "      200000       0.00      0.00      0.00        13\n",
      "      200999       0.00      0.00      0.00         1\n",
      "      210000       0.00      0.00      0.00         7\n",
      "      215000       0.00      0.00      0.00         2\n",
      "      217000       0.00      0.00      0.00         1\n",
      "      220000       0.00      0.00      0.00         8\n",
      "      221000       0.00      0.00      0.00         2\n",
      "      225000       0.00      0.00      0.00         7\n",
      "      229999       0.00      0.00      0.00        12\n",
      "      231999       0.00      0.00      0.00         1\n",
      "      235000       0.00      0.00      0.00         3\n",
      "      239000       0.71      1.00      0.83         5\n",
      "      240000       0.00      0.00      0.00         6\n",
      "      245000       0.00      0.00      0.00         2\n",
      "      250000       0.05      0.26      0.09        19\n",
      "      250999       0.00      0.00      0.00         1\n",
      "      254999       0.00      0.00      0.00         1\n",
      "      260000       0.00      0.00      0.00         6\n",
      "      263000       0.00      0.00      0.00         1\n",
      "      265000       0.00      0.00      0.00         1\n",
      "      269000       0.00      0.00      0.00         0\n",
      "      270000       0.00      0.00      0.00         7\n",
      "      271000       0.00      0.00      0.00         0\n",
      "      275000       0.00      0.00      0.00         1\n",
      "      280000       0.00      0.00      0.00         7\n",
      "      285000       0.00      0.00      0.00         3\n",
      "      290000       0.00      0.00      0.00         3\n",
      "      291000       0.00      0.00      0.00         1\n",
      "      295000       0.00      0.00      0.00         2\n",
      "      300000       0.08      0.34      0.14        32\n",
      "      310000       0.00      0.00      0.00         2\n",
      "      311000       0.00      0.00      0.00         1\n",
      "      315000       0.00      0.00      0.00         1\n",
      "      320000       0.00      0.00      0.00         8\n",
      "      325000       0.50      0.12      0.20         8\n",
      "      330000       0.00      0.00      0.00         3\n",
      "      335000       0.00      0.00      0.00         2\n",
      "      345000       0.00      0.00      0.00         3\n",
      "      347000       0.00      0.00      0.00         1\n",
      "      349000       0.00      0.00      0.00         1\n",
      "      350000       0.04      0.05      0.04        22\n",
      "      355000       0.00      0.00      0.00         1\n",
      "      360000       0.00      0.00      0.00         5\n",
      "      365000       0.00      0.00      0.00         2\n",
      "      370000       0.00      0.00      0.00         3\n",
      "      371000       0.00      0.00      0.00         1\n",
      "      375000       0.00      0.00      0.00         8\n",
      "      380000       0.00      0.00      0.00         8\n",
      "      385000       0.00      0.00      0.00         1\n",
      "      390000       0.00      0.00      0.00         3\n",
      "      395000       0.00      0.00      0.00         1\n",
      "      399000       0.00      0.00      0.00         1\n",
      "      400000       0.00      0.00      0.00        22\n",
      "      409999       0.00      0.00      0.00         9\n",
      "      411000       0.00      0.00      0.00         1\n",
      "      415000       0.00      0.00      0.00         2\n",
      "      420000       0.00      0.00      0.00         4\n",
      "      425000       0.00      0.00      0.00         3\n",
      "      430000       0.00      0.00      0.00         3\n",
      "      434999       0.00      0.00      0.00         2\n",
      "      440000       0.00      0.00      0.00         3\n",
      "      450000       0.03      0.04      0.03        24\n",
      "      455000       0.00      0.00      0.00         2\n",
      "      459999       0.00      0.00      0.00         2\n",
      "      465000       0.00      0.00      0.00         5\n",
      "      470000       0.00      0.00      0.00         5\n",
      "      475000       0.00      0.00      0.00         4\n",
      "      480000       0.00      0.00      0.00         5\n",
      "      484999       0.00      0.00      0.00         3\n",
      "      486000       0.00      0.00      0.00         1\n",
      "      490000       0.00      0.00      0.00         4\n",
      "      495000       0.00      0.00      0.00         5\n",
      "      500000       0.08      0.33      0.12        15\n",
      "      509999       0.00      0.00      0.00         3\n",
      "      515000       0.00      0.00      0.00         1\n",
      "      520000       0.00      0.00      0.00         4\n",
      "      525000       0.00      0.00      0.00        10\n",
      "      530000       0.00      0.00      0.00         1\n",
      "      535000       0.00      0.00      0.00         5\n",
      "      540000       0.00      0.00      0.00         3\n",
      "      550000       0.07      0.28      0.12        18\n",
      "      555000       0.00      0.00      0.00         1\n",
      "      556000       0.00      0.00      0.00         1\n",
      "      560000       0.00      0.00      0.00         1\n",
      "      565000       0.00      0.00      0.00         3\n",
      "      570000       0.00      0.00      0.00         1\n",
      "      575000       0.00      0.00      0.00         1\n",
      "      580000       0.00      0.00      0.00         4\n",
      "      590000       0.00      0.00      0.00         4\n",
      "      599000       0.00      0.00      0.00         1\n",
      "\n",
      "    accuracy                           0.08       636\n",
      "   macro avg       0.02      0.03      0.02       636\n",
      "weighted avg       0.04      0.08      0.05       636\n",
      "\n",
      "accuracy score 0.08490566037735849\n"
     ]
    },
    {
     "name": "stderr",
     "output_type": "stream",
     "text": [
      "C:\\Users\\HP\\Anaconda3\\lib\\site-packages\\sklearn\\metrics\\_classification.py:1318: UndefinedMetricWarning: Precision and F-score are ill-defined and being set to 0.0 in labels with no predicted samples. Use `zero_division` parameter to control this behavior.\n",
      "  _warn_prf(average, modifier, msg_start, len(result))\n",
      "C:\\Users\\HP\\Anaconda3\\lib\\site-packages\\sklearn\\metrics\\_classification.py:1318: UndefinedMetricWarning: Recall and F-score are ill-defined and being set to 0.0 in labels with no true samples. Use `zero_division` parameter to control this behavior.\n",
      "  _warn_prf(average, modifier, msg_start, len(result))\n",
      "C:\\Users\\HP\\Anaconda3\\lib\\site-packages\\sklearn\\metrics\\_classification.py:1318: UndefinedMetricWarning: Precision and F-score are ill-defined and being set to 0.0 in labels with no predicted samples. Use `zero_division` parameter to control this behavior.\n",
      "  _warn_prf(average, modifier, msg_start, len(result))\n",
      "C:\\Users\\HP\\Anaconda3\\lib\\site-packages\\sklearn\\metrics\\_classification.py:1318: UndefinedMetricWarning: Recall and F-score are ill-defined and being set to 0.0 in labels with no true samples. Use `zero_division` parameter to control this behavior.\n",
      "  _warn_prf(average, modifier, msg_start, len(result))\n",
      "C:\\Users\\HP\\Anaconda3\\lib\\site-packages\\sklearn\\metrics\\_classification.py:1318: UndefinedMetricWarning: Precision and F-score are ill-defined and being set to 0.0 in labels with no predicted samples. Use `zero_division` parameter to control this behavior.\n",
      "  _warn_prf(average, modifier, msg_start, len(result))\n",
      "C:\\Users\\HP\\Anaconda3\\lib\\site-packages\\sklearn\\metrics\\_classification.py:1318: UndefinedMetricWarning: Recall and F-score are ill-defined and being set to 0.0 in labels with no true samples. Use `zero_division` parameter to control this behavior.\n",
      "  _warn_prf(average, modifier, msg_start, len(result))\n"
     ]
    }
   ],
   "source": [
    "eval_model(y_test,ypred3)"
   ]
  },
  {
   "cell_type": "code",
   "execution_count": 68,
   "metadata": {},
   "outputs": [
    {
     "name": "stdout",
     "output_type": "stream",
     "text": [
      "Training Score 0.10141509433962265\n",
      "Testing Score 0.08490566037735849\n"
     ]
    }
   ],
   "source": [
    "mscore(m3)"
   ]
  },
  {
   "cell_type": "markdown",
   "metadata": {},
   "source": [
    "#### Decision Tree"
   ]
  },
  {
   "cell_type": "code",
   "execution_count": 69,
   "metadata": {},
   "outputs": [],
   "source": [
    "from sklearn.tree import DecisionTreeClassifier"
   ]
  },
  {
   "cell_type": "code",
   "execution_count": 70,
   "metadata": {},
   "outputs": [],
   "source": [
    "clf=DecisionTreeClassifier()\n",
    "clf.fit(x_train,y_train)\n",
    "ypred4=clf.predict(x_test)"
   ]
  },
  {
   "cell_type": "code",
   "execution_count": 71,
   "metadata": {},
   "outputs": [
    {
     "name": "stdout",
     "output_type": "stream",
     "text": [
      "[[0 0 1 ... 0 0 0]\n",
      " [0 0 0 ... 0 0 0]\n",
      " [0 0 0 ... 0 0 0]\n",
      " ...\n",
      " [0 0 0 ... 0 0 0]\n",
      " [0 0 0 ... 0 0 0]\n",
      " [0 0 0 ... 0 0 1]]\n",
      "classification report               precision    recall  f1-score   support\n",
      "\n",
      "       30000       0.00      0.00      0.00         1\n",
      "       35000       0.00      0.00      0.00         1\n",
      "       40000       0.00      0.00      0.00         0\n",
      "       42000       1.00      1.00      1.00         1\n",
      "       45000       0.33      1.00      0.50         1\n",
      "       50000       0.00      0.00      0.00         3\n",
      "       51111       0.00      0.00      0.00         1\n",
      "       52000       0.50      0.50      0.50         2\n",
      "       55000       0.00      0.00      0.00         1\n",
      "       56000       0.00      0.00      0.00         2\n",
      "       57000       0.00      0.00      0.00         1\n",
      "       58000       0.00      0.00      0.00         0\n",
      "       60000       0.00      0.00      0.00         5\n",
      "       62000       0.00      0.00      0.00         0\n",
      "       65000       0.33      0.33      0.33         3\n",
      "       68000       0.00      0.00      0.00         1\n",
      "       70000       0.14      0.33      0.20         3\n",
      "       72000       0.00      0.00      0.00         1\n",
      "       73000       0.00      0.00      0.00         0\n",
      "       75000       0.22      0.33      0.27         6\n",
      "       78000       0.00      0.00      0.00         0\n",
      "       80000       0.62      0.42      0.50        12\n",
      "       82000       0.00      0.00      0.00         0\n",
      "       85000       0.50      0.25      0.33         4\n",
      "       88000       0.00      0.00      0.00         1\n",
      "       89999       0.00      0.00      0.00         2\n",
      "       90000       0.00      0.00      0.00         3\n",
      "       92800       0.50      1.00      0.67         1\n",
      "       95000       0.00      0.00      0.00         3\n",
      "       99000       0.00      0.00      0.00         0\n",
      "      100000       0.14      0.18      0.16        11\n",
      "      105000       0.00      0.00      0.00         4\n",
      "      110000       0.20      0.10      0.13        10\n",
      "      114999       0.00      0.00      0.00         0\n",
      "      120000       0.17      0.13      0.15        15\n",
      "      125000       0.29      0.14      0.19        14\n",
      "      130000       0.08      0.20      0.12         5\n",
      "      134000       0.00      0.00      0.00         1\n",
      "      135000       0.20      0.50      0.29         2\n",
      "      138000       0.00      0.00      0.00         0\n",
      "      140000       0.20      0.12      0.15         8\n",
      "      142000       0.00      0.00      0.00         0\n",
      "      145000       0.33      0.25      0.29         4\n",
      "      148000       0.00      0.00      0.00         0\n",
      "      149000       0.00      0.00      0.00         1\n",
      "      150000       0.00      0.00      0.00        24\n",
      "      155000       0.00      0.00      0.00         1\n",
      "      160000       0.38      0.33      0.35         9\n",
      "      163000       0.00      0.00      0.00         0\n",
      "      165000       0.00      0.00      0.00         1\n",
      "      170000       0.50      0.30      0.37        10\n",
      "      175000       0.00      0.00      0.00         7\n",
      "      180000       0.20      0.22      0.21         9\n",
      "      183000       0.00      0.00      0.00         1\n",
      "      185000       0.00      0.00      0.00         4\n",
      "      190000       0.00      0.00      0.00         3\n",
      "      193000       0.00      0.00      0.00         0\n",
      "      195000       0.17      0.20      0.18         5\n",
      "      199000       0.00      0.00      0.00         1\n",
      "      200000       0.08      0.08      0.08        13\n",
      "      200999       0.00      0.00      0.00         1\n",
      "      204999       0.00      0.00      0.00         0\n",
      "      210000       0.17      0.14      0.15         7\n",
      "      215000       0.00      0.00      0.00         2\n",
      "      217000       0.00      0.00      0.00         1\n",
      "      220000       0.17      0.25      0.20         8\n",
      "      221000       0.00      0.00      0.00         2\n",
      "      225000       0.18      0.43      0.25         7\n",
      "      229999       0.10      0.08      0.09        12\n",
      "      231999       0.00      0.00      0.00         1\n",
      "      235000       0.00      0.00      0.00         3\n",
      "      239000       1.00      1.00      1.00         5\n",
      "      240000       0.00      0.00      0.00         6\n",
      "      245000       0.40      1.00      0.57         2\n",
      "      250000       0.04      0.05      0.05        19\n",
      "      250999       0.00      0.00      0.00         1\n",
      "      254999       0.00      0.00      0.00         1\n",
      "      260000       0.33      0.33      0.33         6\n",
      "      263000       0.00      0.00      0.00         1\n",
      "      265000       0.00      0.00      0.00         1\n",
      "      270000       0.14      0.29      0.19         7\n",
      "      275000       0.00      0.00      0.00         1\n",
      "      280000       0.00      0.00      0.00         7\n",
      "      281000       0.00      0.00      0.00         0\n",
      "      284000       0.00      0.00      0.00         0\n",
      "      285000       0.00      0.00      0.00         3\n",
      "      287000       0.00      0.00      0.00         0\n",
      "      288000       0.00      0.00      0.00         0\n",
      "      290000       0.33      0.33      0.33         3\n",
      "      291000       1.00      1.00      1.00         1\n",
      "      295000       0.00      0.00      0.00         2\n",
      "      299000       0.00      0.00      0.00         0\n",
      "      300000       0.20      0.22      0.21        32\n",
      "      310000       0.00      0.00      0.00         2\n",
      "      311000       0.00      0.00      0.00         1\n",
      "      312000       0.00      0.00      0.00         0\n",
      "      315000       0.00      0.00      0.00         1\n",
      "      320000       0.17      0.12      0.14         8\n",
      "      325000       0.08      0.12      0.10         8\n",
      "      330000       0.67      0.67      0.67         3\n",
      "      335000       0.00      0.00      0.00         2\n",
      "      340000       0.00      0.00      0.00         0\n",
      "      345000       0.00      0.00      0.00         3\n",
      "      347000       0.00      0.00      0.00         1\n",
      "      349000       0.00      0.00      0.00         1\n",
      "      350000       0.16      0.27      0.20        22\n",
      "      355000       1.00      1.00      1.00         1\n",
      "      360000       0.20      0.20      0.20         5\n",
      "      365000       0.00      0.00      0.00         2\n",
      "      370000       0.40      0.67      0.50         3\n",
      "      371000       0.00      0.00      0.00         1\n",
      "      375000       0.00      0.00      0.00         8\n",
      "      380000       0.00      0.00      0.00         8\n",
      "      381000       0.00      0.00      0.00         0\n",
      "      385000       1.00      1.00      1.00         1\n",
      "      390000       0.00      0.00      0.00         3\n",
      "      395000       0.00      0.00      0.00         1\n",
      "      396000       0.00      0.00      0.00         0\n",
      "      399000       0.00      0.00      0.00         1\n",
      "      400000       0.19      0.14      0.16        22\n",
      "      409999       0.00      0.00      0.00         9\n",
      "      411000       0.00      0.00      0.00         1\n",
      "      415000       1.00      0.50      0.67         2\n",
      "      419000       0.00      0.00      0.00         0\n",
      "      420000       0.12      0.25      0.17         4\n",
      "      425000       0.00      0.00      0.00         3\n",
      "      426000       0.00      0.00      0.00         0\n",
      "      430000       0.00      0.00      0.00         3\n",
      "      434999       0.14      0.50      0.22         2\n",
      "      440000       0.00      0.00      0.00         3\n",
      "      450000       0.50      0.21      0.29        24\n",
      "      455000       1.00      0.50      0.67         2\n",
      "      458000       0.00      0.00      0.00         0\n",
      "      459999       0.00      0.00      0.00         2\n",
      "      465000       1.00      0.40      0.57         5\n",
      "      470000       0.00      0.00      0.00         5\n",
      "      471000       0.00      0.00      0.00         0\n",
      "      475000       0.00      0.00      0.00         4\n",
      "      480000       0.00      0.00      0.00         5\n",
      "      484999       0.50      0.33      0.40         3\n",
      "      486000       0.00      0.00      0.00         1\n",
      "      490000       0.25      0.25      0.25         4\n",
      "      495000       0.50      0.20      0.29         5\n",
      "      500000       0.12      0.20      0.15        15\n",
      "      509000       0.00      0.00      0.00         0\n",
      "      509999       0.00      0.00      0.00         3\n",
      "      515000       0.00      0.00      0.00         1\n",
      "      520000       0.00      0.00      0.00         4\n",
      "      525000       0.36      0.40      0.38        10\n",
      "      530000       0.00      0.00      0.00         1\n",
      "      535000       0.00      0.00      0.00         5\n",
      "      540000       0.00      0.00      0.00         3\n",
      "      541000       0.00      0.00      0.00         0\n",
      "      545000       0.00      0.00      0.00         0\n",
      "      550000       0.06      0.06      0.06        18\n",
      "      555000       0.00      0.00      0.00         1\n",
      "      556000       0.50      1.00      0.67         1\n",
      "      560000       0.00      0.00      0.00         1\n",
      "      565000       1.00      0.33      0.50         3\n",
      "      570000       0.00      0.00      0.00         1\n",
      "      575000       0.00      0.00      0.00         1\n",
      "      580000       0.00      0.00      0.00         4\n",
      "      585000       0.00      0.00      0.00         0\n",
      "      590000       0.00      0.00      0.00         4\n",
      "      595000       0.00      0.00      0.00         0\n",
      "      599000       1.00      1.00      1.00         1\n",
      "\n",
      "    accuracy                           0.17       636\n",
      "   macro avg       0.14      0.14      0.13       636\n",
      "weighted avg       0.18      0.17      0.16       636\n",
      "\n",
      "accuracy score 0.16666666666666666\n"
     ]
    },
    {
     "name": "stderr",
     "output_type": "stream",
     "text": [
      "C:\\Users\\HP\\Anaconda3\\lib\\site-packages\\sklearn\\metrics\\_classification.py:1318: UndefinedMetricWarning: Precision and F-score are ill-defined and being set to 0.0 in labels with no predicted samples. Use `zero_division` parameter to control this behavior.\n",
      "  _warn_prf(average, modifier, msg_start, len(result))\n",
      "C:\\Users\\HP\\Anaconda3\\lib\\site-packages\\sklearn\\metrics\\_classification.py:1318: UndefinedMetricWarning: Recall and F-score are ill-defined and being set to 0.0 in labels with no true samples. Use `zero_division` parameter to control this behavior.\n",
      "  _warn_prf(average, modifier, msg_start, len(result))\n",
      "C:\\Users\\HP\\Anaconda3\\lib\\site-packages\\sklearn\\metrics\\_classification.py:1318: UndefinedMetricWarning: Precision and F-score are ill-defined and being set to 0.0 in labels with no predicted samples. Use `zero_division` parameter to control this behavior.\n",
      "  _warn_prf(average, modifier, msg_start, len(result))\n",
      "C:\\Users\\HP\\Anaconda3\\lib\\site-packages\\sklearn\\metrics\\_classification.py:1318: UndefinedMetricWarning: Recall and F-score are ill-defined and being set to 0.0 in labels with no true samples. Use `zero_division` parameter to control this behavior.\n",
      "  _warn_prf(average, modifier, msg_start, len(result))\n",
      "C:\\Users\\HP\\Anaconda3\\lib\\site-packages\\sklearn\\metrics\\_classification.py:1318: UndefinedMetricWarning: Precision and F-score are ill-defined and being set to 0.0 in labels with no predicted samples. Use `zero_division` parameter to control this behavior.\n",
      "  _warn_prf(average, modifier, msg_start, len(result))\n",
      "C:\\Users\\HP\\Anaconda3\\lib\\site-packages\\sklearn\\metrics\\_classification.py:1318: UndefinedMetricWarning: Recall and F-score are ill-defined and being set to 0.0 in labels with no true samples. Use `zero_division` parameter to control this behavior.\n",
      "  _warn_prf(average, modifier, msg_start, len(result))\n"
     ]
    }
   ],
   "source": [
    "eval_model(y_test,ypred4)"
   ]
  },
  {
   "cell_type": "code",
   "execution_count": 72,
   "metadata": {},
   "outputs": [
    {
     "name": "stdout",
     "output_type": "stream",
     "text": [
      "Training Score 0.9658018867924528\n",
      "Testing Score 0.16666666666666666\n"
     ]
    }
   ],
   "source": [
    "mscore(clf)"
   ]
  },
  {
   "cell_type": "markdown",
   "metadata": {},
   "source": [
    "#### Random Forest"
   ]
  },
  {
   "cell_type": "code",
   "execution_count": 73,
   "metadata": {},
   "outputs": [],
   "source": [
    "from sklearn.ensemble import RandomForestClassifier"
   ]
  },
  {
   "cell_type": "code",
   "execution_count": 74,
   "metadata": {},
   "outputs": [
    {
     "data": {
      "text/plain": [
       "RandomForestClassifier()"
      ]
     },
     "execution_count": 74,
     "metadata": {},
     "output_type": "execute_result"
    }
   ],
   "source": [
    "rfc=RandomForestClassifier()\n",
    "rfc.fit(x_train,y_train)"
   ]
  },
  {
   "cell_type": "code",
   "execution_count": 75,
   "metadata": {},
   "outputs": [],
   "source": [
    "ypred5=rfc.predict(x_test)"
   ]
  },
  {
   "cell_type": "code",
   "execution_count": 76,
   "metadata": {},
   "outputs": [
    {
     "name": "stdout",
     "output_type": "stream",
     "text": [
      "[[0 0 1 ... 0 0 0]\n",
      " [0 0 0 ... 0 0 0]\n",
      " [0 0 0 ... 0 0 0]\n",
      " ...\n",
      " [0 0 0 ... 0 0 0]\n",
      " [0 0 0 ... 0 0 0]\n",
      " [0 0 0 ... 0 0 1]]\n",
      "classification report               precision    recall  f1-score   support\n",
      "\n",
      "       30000       0.00      0.00      0.00         1\n",
      "       35000       0.00      0.00      0.00         1\n",
      "       40000       0.00      0.00      0.00         0\n",
      "       42000       1.00      1.00      1.00         1\n",
      "       45000       0.33      1.00      0.50         1\n",
      "       50000       0.00      0.00      0.00         3\n",
      "       51111       0.00      0.00      0.00         1\n",
      "       52000       0.50      1.00      0.67         2\n",
      "       55000       0.00      0.00      0.00         1\n",
      "       56000       0.00      0.00      0.00         2\n",
      "       57000       0.00      0.00      0.00         1\n",
      "       58000       0.00      0.00      0.00         0\n",
      "       60000       0.00      0.00      0.00         5\n",
      "       62000       0.00      0.00      0.00         0\n",
      "       65000       0.33      0.33      0.33         3\n",
      "       68000       0.50      1.00      0.67         1\n",
      "       70000       0.25      0.33      0.29         3\n",
      "       72000       0.00      0.00      0.00         1\n",
      "       75000       0.33      0.33      0.33         6\n",
      "       78000       0.00      0.00      0.00         0\n",
      "       80000       0.38      0.42      0.40        12\n",
      "       85000       0.17      0.25      0.20         4\n",
      "       88000       0.00      0.00      0.00         1\n",
      "       89999       0.00      0.00      0.00         2\n",
      "       90000       0.20      0.33      0.25         3\n",
      "       92800       1.00      1.00      1.00         1\n",
      "       95000       0.00      0.00      0.00         3\n",
      "      100000       0.23      0.45      0.30        11\n",
      "      105000       0.00      0.00      0.00         4\n",
      "      110000       0.22      0.20      0.21        10\n",
      "      111000       0.00      0.00      0.00         0\n",
      "      114999       0.00      0.00      0.00         0\n",
      "      120000       0.19      0.20      0.19        15\n",
      "      125000       0.33      0.14      0.20        14\n",
      "      130000       0.18      0.40      0.25         5\n",
      "      134000       0.00      0.00      0.00         1\n",
      "      135000       0.25      0.50      0.33         2\n",
      "      140000       0.12      0.12      0.12         8\n",
      "      145000       0.33      0.25      0.29         4\n",
      "      149000       0.00      0.00      0.00         1\n",
      "      150000       0.10      0.04      0.06        24\n",
      "      155000       0.00      0.00      0.00         1\n",
      "      160000       0.33      0.33      0.33         9\n",
      "      163000       0.00      0.00      0.00         0\n",
      "      165000       0.00      0.00      0.00         1\n",
      "      170000       1.00      0.30      0.46        10\n",
      "      175000       0.12      0.14      0.13         7\n",
      "      180000       0.09      0.11      0.10         9\n",
      "      183000       0.00      0.00      0.00         1\n",
      "      185000       0.00      0.00      0.00         4\n",
      "      190000       0.00      0.00      0.00         3\n",
      "      193000       0.00      0.00      0.00         0\n",
      "      195000       0.50      0.20      0.29         5\n",
      "      199000       0.00      0.00      0.00         1\n",
      "      200000       0.14      0.23      0.17        13\n",
      "      200999       0.00      0.00      0.00         1\n",
      "      204999       0.00      0.00      0.00         0\n",
      "      210000       0.17      0.14      0.15         7\n",
      "      215000       0.00      0.00      0.00         2\n",
      "      217000       0.00      0.00      0.00         1\n",
      "      219000       0.00      0.00      0.00         0\n",
      "      220000       0.22      0.25      0.24         8\n",
      "      221000       0.00      0.00      0.00         2\n",
      "      225000       0.25      0.43      0.32         7\n",
      "      229999       0.43      0.50      0.46        12\n",
      "      231999       0.00      0.00      0.00         1\n",
      "      233000       0.00      0.00      0.00         0\n",
      "      235000       0.00      0.00      0.00         3\n",
      "      239000       1.00      1.00      1.00         5\n",
      "      240000       0.20      0.17      0.18         6\n",
      "      245000       0.50      1.00      0.67         2\n",
      "      250000       0.04      0.05      0.05        19\n",
      "      250999       0.00      0.00      0.00         1\n",
      "      254999       0.00      0.00      0.00         1\n",
      "      260000       0.60      0.50      0.55         6\n",
      "      263000       0.00      0.00      0.00         1\n",
      "      265000       0.00      0.00      0.00         1\n",
      "      270000       0.33      0.29      0.31         7\n",
      "      275000       0.00      0.00      0.00         1\n",
      "      280000       0.00      0.00      0.00         7\n",
      "      285000       0.00      0.00      0.00         3\n",
      "      287000       0.00      0.00      0.00         0\n",
      "      290000       0.00      0.00      0.00         3\n",
      "      291000       1.00      1.00      1.00         1\n",
      "      295000       0.00      0.00      0.00         2\n",
      "      299000       0.00      0.00      0.00         0\n",
      "      300000       0.26      0.31      0.29        32\n",
      "      305000       0.00      0.00      0.00         0\n",
      "      310000       0.00      0.00      0.00         2\n",
      "      311000       0.00      0.00      0.00         1\n",
      "      312000       0.00      0.00      0.00         0\n",
      "      315000       0.00      0.00      0.00         1\n",
      "      320000       0.17      0.12      0.14         8\n",
      "      325000       0.50      0.25      0.33         8\n",
      "      330000       1.00      0.67      0.80         3\n",
      "      335000       0.00      0.00      0.00         2\n",
      "      340000       0.00      0.00      0.00         0\n",
      "      345000       0.33      0.33      0.33         3\n",
      "      347000       0.00      0.00      0.00         1\n",
      "      349000       0.00      0.00      0.00         1\n",
      "      350000       0.20      0.36      0.26        22\n",
      "      355000       0.50      1.00      0.67         1\n",
      "      360000       1.00      0.20      0.33         5\n",
      "      365000       0.00      0.00      0.00         2\n",
      "      368000       0.00      0.00      0.00         0\n",
      "      370000       0.40      0.67      0.50         3\n",
      "      371000       0.00      0.00      0.00         1\n",
      "      375000       0.00      0.00      0.00         8\n",
      "      380000       0.20      0.12      0.15         8\n",
      "      381000       0.00      0.00      0.00         0\n",
      "      385000       0.50      1.00      0.67         1\n",
      "      390000       0.00      0.00      0.00         3\n",
      "      395000       0.00      0.00      0.00         1\n",
      "      399000       0.00      0.00      0.00         1\n",
      "      400000       0.29      0.18      0.22        22\n",
      "      409999       0.00      0.00      0.00         9\n",
      "      411000       0.00      0.00      0.00         1\n",
      "      415000       0.33      0.50      0.40         2\n",
      "      420000       0.17      0.25      0.20         4\n",
      "      421000       0.00      0.00      0.00         0\n",
      "      425000       0.00      0.00      0.00         3\n",
      "      430000       0.25      0.33      0.29         3\n",
      "      430999       0.00      0.00      0.00         0\n",
      "      434999       0.00      0.00      0.00         2\n",
      "      440000       0.00      0.00      0.00         3\n",
      "      450000       0.38      0.33      0.36        24\n",
      "      455000       1.00      0.50      0.67         2\n",
      "      459999       0.00      0.00      0.00         2\n",
      "      465000       0.60      0.60      0.60         5\n",
      "      470000       0.50      0.20      0.29         5\n",
      "      475000       0.00      0.00      0.00         4\n",
      "      480000       0.00      0.00      0.00         5\n",
      "      484999       1.00      0.67      0.80         3\n",
      "      486000       0.00      0.00      0.00         1\n",
      "      490000       0.50      0.25      0.33         4\n",
      "      495000       1.00      0.40      0.57         5\n",
      "      500000       0.04      0.07      0.05        15\n",
      "      509000       0.00      0.00      0.00         0\n",
      "      509999       0.00      0.00      0.00         3\n",
      "      515000       0.00      0.00      0.00         1\n",
      "      520000       0.33      0.25      0.29         4\n",
      "      525000       0.50      0.40      0.44        10\n",
      "      530000       0.00      0.00      0.00         1\n",
      "      535000       0.80      0.80      0.80         5\n",
      "      540000       0.00      0.00      0.00         3\n",
      "      545000       0.00      0.00      0.00         0\n",
      "      550000       0.22      0.28      0.24        18\n",
      "      555000       0.00      0.00      0.00         1\n",
      "      556000       0.00      0.00      0.00         1\n",
      "      560000       0.00      0.00      0.00         1\n",
      "      565000       1.00      0.67      0.80         3\n",
      "      570000       0.33      1.00      0.50         1\n",
      "      575000       0.00      0.00      0.00         1\n",
      "      580000       0.00      0.00      0.00         4\n",
      "      585000       0.00      0.00      0.00         0\n",
      "      590000       0.00      0.00      0.00         4\n",
      "      595000       0.00      0.00      0.00         0\n",
      "      596000       0.00      0.00      0.00         0\n",
      "      599000       1.00      1.00      1.00         1\n",
      "\n",
      "    accuracy                           0.23       636\n",
      "   macro avg       0.18      0.19      0.17       636\n",
      "weighted avg       0.25      0.23      0.23       636\n",
      "\n",
      "accuracy score 0.23270440251572327\n"
     ]
    },
    {
     "name": "stderr",
     "output_type": "stream",
     "text": [
      "C:\\Users\\HP\\Anaconda3\\lib\\site-packages\\sklearn\\metrics\\_classification.py:1318: UndefinedMetricWarning: Precision and F-score are ill-defined and being set to 0.0 in labels with no predicted samples. Use `zero_division` parameter to control this behavior.\n",
      "  _warn_prf(average, modifier, msg_start, len(result))\n",
      "C:\\Users\\HP\\Anaconda3\\lib\\site-packages\\sklearn\\metrics\\_classification.py:1318: UndefinedMetricWarning: Recall and F-score are ill-defined and being set to 0.0 in labels with no true samples. Use `zero_division` parameter to control this behavior.\n",
      "  _warn_prf(average, modifier, msg_start, len(result))\n",
      "C:\\Users\\HP\\Anaconda3\\lib\\site-packages\\sklearn\\metrics\\_classification.py:1318: UndefinedMetricWarning: Precision and F-score are ill-defined and being set to 0.0 in labels with no predicted samples. Use `zero_division` parameter to control this behavior.\n",
      "  _warn_prf(average, modifier, msg_start, len(result))\n",
      "C:\\Users\\HP\\Anaconda3\\lib\\site-packages\\sklearn\\metrics\\_classification.py:1318: UndefinedMetricWarning: Recall and F-score are ill-defined and being set to 0.0 in labels with no true samples. Use `zero_division` parameter to control this behavior.\n",
      "  _warn_prf(average, modifier, msg_start, len(result))\n",
      "C:\\Users\\HP\\Anaconda3\\lib\\site-packages\\sklearn\\metrics\\_classification.py:1318: UndefinedMetricWarning: Precision and F-score are ill-defined and being set to 0.0 in labels with no predicted samples. Use `zero_division` parameter to control this behavior.\n",
      "  _warn_prf(average, modifier, msg_start, len(result))\n",
      "C:\\Users\\HP\\Anaconda3\\lib\\site-packages\\sklearn\\metrics\\_classification.py:1318: UndefinedMetricWarning: Recall and F-score are ill-defined and being set to 0.0 in labels with no true samples. Use `zero_division` parameter to control this behavior.\n",
      "  _warn_prf(average, modifier, msg_start, len(result))\n"
     ]
    }
   ],
   "source": [
    "eval_model(y_test,ypred5)"
   ]
  },
  {
   "cell_type": "code",
   "execution_count": 77,
   "metadata": {},
   "outputs": [
    {
     "name": "stdout",
     "output_type": "stream",
     "text": [
      "Training Score 0.9658018867924528\n",
      "Testing Score 0.23270440251572327\n"
     ]
    }
   ],
   "source": [
    "mscore(rfc)"
   ]
  },
  {
   "cell_type": "markdown",
   "metadata": {},
   "source": [
    "#### KNN"
   ]
  },
  {
   "cell_type": "code",
   "execution_count": 78,
   "metadata": {},
   "outputs": [
    {
     "data": {
      "text/plain": [
       "KNeighborsClassifier()"
      ]
     },
     "execution_count": 78,
     "metadata": {},
     "output_type": "execute_result"
    }
   ],
   "source": [
    "from sklearn.neighbors import KNeighborsClassifier\n",
    "neigh=KNeighborsClassifier()\n",
    "neigh.fit(x_train,y_train)"
   ]
  },
  {
   "cell_type": "code",
   "execution_count": 79,
   "metadata": {},
   "outputs": [],
   "source": [
    "ypred6=neigh.predict(x_test)"
   ]
  },
  {
   "cell_type": "code",
   "execution_count": 80,
   "metadata": {},
   "outputs": [
    {
     "name": "stdout",
     "output_type": "stream",
     "text": [
      "[[0 0 1 ... 0 0 0]\n",
      " [0 1 0 ... 0 0 0]\n",
      " [0 0 0 ... 0 0 0]\n",
      " ...\n",
      " [0 0 0 ... 0 0 0]\n",
      " [0 0 0 ... 0 0 0]\n",
      " [0 0 0 ... 0 0 0]]\n",
      "classification report               precision    recall  f1-score   support\n",
      "\n",
      "       30000       0.00      0.00      0.00         1\n",
      "       35000       1.00      1.00      1.00         1\n",
      "       40000       0.00      0.00      0.00         0\n",
      "       42000       0.00      0.00      0.00         1\n",
      "       45000       0.12      1.00      0.22         1\n",
      "       50000       0.00      0.00      0.00         3\n",
      "       51111       0.00      0.00      0.00         1\n",
      "       52000       0.50      0.50      0.50         2\n",
      "       55000       0.00      0.00      0.00         1\n",
      "       56000       0.00      0.00      0.00         2\n",
      "       57000       0.00      0.00      0.00         1\n",
      "       60000       0.00      0.00      0.00         5\n",
      "       65000       0.00      0.00      0.00         3\n",
      "       68000       0.00      0.00      0.00         1\n",
      "       70000       0.17      0.33      0.22         3\n",
      "       72000       0.00      0.00      0.00         1\n",
      "       73000       0.00      0.00      0.00         0\n",
      "       75000       0.20      0.17      0.18         6\n",
      "       78692       0.00      0.00      0.00         0\n",
      "       79000       0.00      0.00      0.00         0\n",
      "       80000       0.50      0.50      0.50        12\n",
      "       82000       0.00      0.00      0.00         0\n",
      "       85000       0.00      0.00      0.00         4\n",
      "       88000       0.00      0.00      0.00         1\n",
      "       89999       0.00      0.00      0.00         2\n",
      "       90000       0.00      0.00      0.00         3\n",
      "       92800       1.00      1.00      1.00         1\n",
      "       95000       0.00      0.00      0.00         3\n",
      "       97000       0.00      0.00      0.00         0\n",
      "       99000       0.00      0.00      0.00         0\n",
      "      100000       0.11      0.27      0.16        11\n",
      "      105000       0.00      0.00      0.00         4\n",
      "      106000       0.00      0.00      0.00         0\n",
      "      110000       0.20      0.20      0.20        10\n",
      "      114999       0.00      0.00      0.00         0\n",
      "      115999       0.00      0.00      0.00         0\n",
      "      120000       0.12      0.13      0.13        15\n",
      "      123000       0.00      0.00      0.00         0\n",
      "      125000       0.25      0.07      0.11        14\n",
      "      130000       0.05      0.20      0.08         5\n",
      "      134000       0.00      0.00      0.00         1\n",
      "      135000       0.33      0.50      0.40         2\n",
      "      140000       0.00      0.00      0.00         8\n",
      "      145000       0.00      0.00      0.00         4\n",
      "      148000       0.00      0.00      0.00         0\n",
      "      149000       0.00      0.00      0.00         1\n",
      "      150000       0.05      0.04      0.04        24\n",
      "      151000       0.00      0.00      0.00         0\n",
      "      155000       0.00      0.00      0.00         1\n",
      "      160000       0.00      0.00      0.00         9\n",
      "      165000       0.00      0.00      0.00         1\n",
      "      170000       0.60      0.30      0.40        10\n",
      "      173000       0.00      0.00      0.00         0\n",
      "      175000       0.17      0.14      0.15         7\n",
      "      180000       0.06      0.11      0.07         9\n",
      "      182000       0.00      0.00      0.00         0\n",
      "      183000       0.00      0.00      0.00         1\n",
      "      185000       0.00      0.00      0.00         4\n",
      "      190000       0.00      0.00      0.00         3\n",
      "      193000       0.00      0.00      0.00         0\n",
      "      195000       0.00      0.00      0.00         5\n",
      "      199000       0.00      0.00      0.00         1\n",
      "      200000       0.00      0.00      0.00        13\n",
      "      200999       0.00      0.00      0.00         1\n",
      "      210000       0.17      0.43      0.24         7\n",
      "      215000       0.00      0.00      0.00         2\n",
      "      217000       0.00      0.00      0.00         1\n",
      "      220000       0.14      0.12      0.13         8\n",
      "      221000       0.00      0.00      0.00         2\n",
      "      225000       0.19      0.43      0.26         7\n",
      "      227000       0.00      0.00      0.00         0\n",
      "      229999       0.60      0.50      0.55        12\n",
      "      231999       0.00      0.00      0.00         1\n",
      "      235000       0.00      0.00      0.00         3\n",
      "      239000       1.00      1.00      1.00         5\n",
      "      240000       0.00      0.00      0.00         6\n",
      "      245000       0.00      0.00      0.00         2\n",
      "      250000       0.07      0.11      0.09        19\n",
      "      250999       0.00      0.00      0.00         1\n",
      "      254999       0.00      0.00      0.00         1\n",
      "      260000       0.17      0.17      0.17         6\n",
      "      263000       0.00      0.00      0.00         1\n",
      "      265000       0.00      0.00      0.00         1\n",
      "      270000       0.00      0.00      0.00         7\n",
      "      271000       0.00      0.00      0.00         0\n",
      "      275000       0.00      0.00      0.00         1\n",
      "      280000       0.00      0.00      0.00         7\n",
      "      285000       0.00      0.00      0.00         3\n",
      "      290000       0.00      0.00      0.00         3\n",
      "      291000       0.00      0.00      0.00         1\n",
      "      295000       0.00      0.00      0.00         2\n",
      "      299000       0.00      0.00      0.00         0\n",
      "      300000       0.22      0.22      0.22        32\n",
      "      310000       0.00      0.00      0.00         2\n",
      "      311000       0.00      0.00      0.00         1\n",
      "      312000       0.00      0.00      0.00         0\n",
      "      315000       0.00      0.00      0.00         1\n",
      "      320000       0.20      0.12      0.15         8\n",
      "      325000       0.17      0.12      0.14         8\n",
      "      330000       0.33      0.33      0.33         3\n",
      "      335000       0.00      0.00      0.00         2\n",
      "      340000       0.00      0.00      0.00         0\n",
      "      345000       0.00      0.00      0.00         3\n",
      "      347000       0.00      0.00      0.00         1\n",
      "      349000       0.00      0.00      0.00         1\n",
      "      350000       0.14      0.14      0.14        22\n",
      "      355000       0.00      0.00      0.00         1\n",
      "      360000       1.00      0.20      0.33         5\n",
      "      365000       0.00      0.00      0.00         2\n",
      "      370000       0.00      0.00      0.00         3\n",
      "      371000       0.00      0.00      0.00         1\n",
      "      375000       0.00      0.00      0.00         8\n",
      "      380000       0.33      0.12      0.18         8\n",
      "      385000       0.00      0.00      0.00         1\n",
      "      390000       0.00      0.00      0.00         3\n",
      "      395000       0.00      0.00      0.00         1\n",
      "      399000       0.00      0.00      0.00         1\n",
      "      400000       0.00      0.00      0.00        22\n",
      "      409999       0.00      0.00      0.00         9\n",
      "      411000       0.00      0.00      0.00         1\n",
      "      415000       0.00      0.00      0.00         2\n",
      "      420000       0.00      0.00      0.00         4\n",
      "      421000       0.00      0.00      0.00         0\n",
      "      425000       0.00      0.00      0.00         3\n",
      "      430000       0.00      0.00      0.00         3\n",
      "      434999       0.00      0.00      0.00         2\n",
      "      440000       0.00      0.00      0.00         3\n",
      "      450000       0.45      0.21      0.29        24\n",
      "      455000       0.00      0.00      0.00         2\n",
      "      459999       0.00      0.00      0.00         2\n",
      "      465000       0.00      0.00      0.00         5\n",
      "      470000       0.00      0.00      0.00         5\n",
      "      475000       0.00      0.00      0.00         4\n",
      "      480000       0.00      0.00      0.00         5\n",
      "      484999       0.00      0.00      0.00         3\n",
      "      486000       0.00      0.00      0.00         1\n",
      "      490000       0.00      0.00      0.00         4\n",
      "      495000       0.00      0.00      0.00         5\n",
      "      500000       0.16      0.20      0.18        15\n",
      "      509999       0.00      0.00      0.00         3\n",
      "      515000       0.00      0.00      0.00         1\n",
      "      520000       0.33      0.25      0.29         4\n",
      "      525000       0.00      0.00      0.00        10\n",
      "      530000       0.00      0.00      0.00         1\n",
      "      535000       0.67      0.80      0.73         5\n",
      "      540000       0.00      0.00      0.00         3\n",
      "      550000       0.22      0.22      0.22        18\n",
      "      555000       0.00      0.00      0.00         1\n",
      "      556000       0.00      0.00      0.00         1\n",
      "      560000       0.00      0.00      0.00         1\n",
      "      565000       0.00      0.00      0.00         3\n",
      "      570000       0.00      0.00      0.00         1\n",
      "      575000       0.00      0.00      0.00         1\n",
      "      580000       0.00      0.00      0.00         4\n",
      "      590000       0.00      0.00      0.00         4\n",
      "      599000       0.00      0.00      0.00         1\n",
      "\n",
      "    accuracy                           0.13       636\n",
      "   macro avg       0.08      0.08      0.07       636\n",
      "weighted avg       0.14      0.13      0.13       636\n",
      "\n",
      "accuracy score 0.12735849056603774\n"
     ]
    },
    {
     "name": "stderr",
     "output_type": "stream",
     "text": [
      "C:\\Users\\HP\\Anaconda3\\lib\\site-packages\\sklearn\\metrics\\_classification.py:1318: UndefinedMetricWarning: Precision and F-score are ill-defined and being set to 0.0 in labels with no predicted samples. Use `zero_division` parameter to control this behavior.\n",
      "  _warn_prf(average, modifier, msg_start, len(result))\n",
      "C:\\Users\\HP\\Anaconda3\\lib\\site-packages\\sklearn\\metrics\\_classification.py:1318: UndefinedMetricWarning: Recall and F-score are ill-defined and being set to 0.0 in labels with no true samples. Use `zero_division` parameter to control this behavior.\n",
      "  _warn_prf(average, modifier, msg_start, len(result))\n",
      "C:\\Users\\HP\\Anaconda3\\lib\\site-packages\\sklearn\\metrics\\_classification.py:1318: UndefinedMetricWarning: Precision and F-score are ill-defined and being set to 0.0 in labels with no predicted samples. Use `zero_division` parameter to control this behavior.\n",
      "  _warn_prf(average, modifier, msg_start, len(result))\n",
      "C:\\Users\\HP\\Anaconda3\\lib\\site-packages\\sklearn\\metrics\\_classification.py:1318: UndefinedMetricWarning: Recall and F-score are ill-defined and being set to 0.0 in labels with no true samples. Use `zero_division` parameter to control this behavior.\n",
      "  _warn_prf(average, modifier, msg_start, len(result))\n",
      "C:\\Users\\HP\\Anaconda3\\lib\\site-packages\\sklearn\\metrics\\_classification.py:1318: UndefinedMetricWarning: Precision and F-score are ill-defined and being set to 0.0 in labels with no predicted samples. Use `zero_division` parameter to control this behavior.\n",
      "  _warn_prf(average, modifier, msg_start, len(result))\n",
      "C:\\Users\\HP\\Anaconda3\\lib\\site-packages\\sklearn\\metrics\\_classification.py:1318: UndefinedMetricWarning: Recall and F-score are ill-defined and being set to 0.0 in labels with no true samples. Use `zero_division` parameter to control this behavior.\n",
      "  _warn_prf(average, modifier, msg_start, len(result))\n"
     ]
    }
   ],
   "source": [
    "eval_model(y_test,ypred6)"
   ]
  },
  {
   "cell_type": "code",
   "execution_count": 81,
   "metadata": {},
   "outputs": [
    {
     "name": "stdout",
     "output_type": "stream",
     "text": [
      "Training Score 0.35573899371069184\n",
      "Testing Score 0.12735849056603774\n"
     ]
    }
   ],
   "source": [
    "mscore(neigh)"
   ]
  },
  {
   "cell_type": "markdown",
   "metadata": {},
   "source": [
    "#### Bagging Classifier"
   ]
  },
  {
   "cell_type": "code",
   "execution_count": 82,
   "metadata": {},
   "outputs": [],
   "source": [
    "from sklearn.ensemble import BaggingClassifier\n",
    "from sklearn.tree import DecisionTreeClassifier"
   ]
  },
  {
   "cell_type": "code",
   "execution_count": 83,
   "metadata": {},
   "outputs": [],
   "source": [
    "def eval_model(y_test,ypred):\n",
    "    cm=confusion_matrix(y_test,ypred)\n",
    "    print(cm)\n",
    "    print('classification report',classification_report(y_test,ypred))\n",
    "    print('accuracy score',accuracy_score(y_test,ypred))\n",
    "    \n",
    "def mscore(model):\n",
    "    print('Training Score',model.score(x_train,y_train))\n",
    "    print('Testing Score',model.score(x_test,y_test))"
   ]
  },
  {
   "cell_type": "code",
   "execution_count": 84,
   "metadata": {},
   "outputs": [],
   "source": [
    "dt=DecisionTreeClassifier(criterion='gini',max_depth=10,min_samples_split=20)"
   ]
  },
  {
   "cell_type": "code",
   "execution_count": 85,
   "metadata": {},
   "outputs": [
    {
     "data": {
      "text/plain": [
       "BaggingClassifier(base_estimator=DecisionTreeClassifier(max_depth=10,\n",
       "                                                        min_samples_split=20),\n",
       "                  max_features=7, max_samples=3180, n_estimators=15,\n",
       "                  random_state=100)"
      ]
     },
     "execution_count": 85,
     "metadata": {},
     "output_type": "execute_result"
    }
   ],
   "source": [
    "bc_dt=BaggingClassifier(base_estimator=dt,n_estimators=15,max_samples=x.shape[0],max_features=x.shape[1],random_state=100)\n",
    "bc_dt.fit(x,y)"
   ]
  },
  {
   "cell_type": "code",
   "execution_count": 86,
   "metadata": {},
   "outputs": [
    {
     "name": "stdout",
     "output_type": "stream",
     "text": [
      "Training Score 0.01650943396226415\n",
      "Testing Score 0.018867924528301886\n"
     ]
    },
    {
     "name": "stderr",
     "output_type": "stream",
     "text": [
      "C:\\Users\\HP\\Anaconda3\\lib\\site-packages\\sklearn\\base.py:451: UserWarning: X does not have valid feature names, but BaggingClassifier was fitted with feature names\n",
      "  \"X does not have valid feature names, but\"\n",
      "C:\\Users\\HP\\Anaconda3\\lib\\site-packages\\sklearn\\base.py:451: UserWarning: X does not have valid feature names, but BaggingClassifier was fitted with feature names\n",
      "  \"X does not have valid feature names, but\"\n"
     ]
    }
   ],
   "source": [
    "mscore(bc_dt)"
   ]
  },
  {
   "cell_type": "code",
   "execution_count": 94,
   "metadata": {},
   "outputs": [
    {
     "data": {
      "text/plain": [
       "AdaBoostClassifier(n_estimators=100, random_state=12)"
      ]
     },
     "execution_count": 94,
     "metadata": {},
     "output_type": "execute_result"
    }
   ],
   "source": [
    "from sklearn.ensemble import AdaBoostClassifier\n",
    "ada_model=AdaBoostClassifier(n_estimators=100, random_state=12)\n",
    "ada_model.fit(x_train,y_train)"
   ]
  },
  {
   "cell_type": "code",
   "execution_count": 95,
   "metadata": {},
   "outputs": [],
   "source": [
    "def eval_model(y_test,ypred):\n",
    "    cm=confusion_matrix(y_test,ypred)\n",
    "    print(cm)\n",
    "    print('classification report',classification_report(y_test,ypred))\n",
    "    print('accuracy score',accuracy_score(y_test,ypred))\n",
    "    \n",
    "def mscore(model):\n",
    "    print('Training Score',model.score(x_train,y_train))\n",
    "    print('Testing Score',model.score(x_test,y_test))"
   ]
  },
  {
   "cell_type": "code",
   "execution_count": 96,
   "metadata": {},
   "outputs": [
    {
     "name": "stdout",
     "output_type": "stream",
     "text": [
      "Training Score 0.06092767295597484\n",
      "Testing Score 0.05817610062893082\n"
     ]
    }
   ],
   "source": [
    "mscore(ada_model)"
   ]
  },
  {
   "cell_type": "markdown",
   "metadata": {},
   "source": [
    "#### Generate the prediction for test dataset"
   ]
  },
  {
   "cell_type": "code",
   "execution_count": 87,
   "metadata": {},
   "outputs": [
    {
     "name": "stderr",
     "output_type": "stream",
     "text": [
      "C:\\Users\\HP\\Anaconda3\\lib\\site-packages\\sklearn\\base.py:451: UserWarning: X does not have valid feature names, but BaggingClassifier was fitted with feature names\n",
      "  \"X does not have valid feature names, but\"\n"
     ]
    }
   ],
   "source": [
    "y_pred=bc_dt.predict(x_test)"
   ]
  },
  {
   "cell_type": "code",
   "execution_count": null,
   "metadata": {},
   "outputs": [],
   "source": []
  },
  {
   "cell_type": "code",
   "execution_count": 88,
   "metadata": {},
   "outputs": [
    {
     "data": {
      "text/html": [
       "<div>\n",
       "<style scoped>\n",
       "    .dataframe tbody tr th:only-of-type {\n",
       "        vertical-align: middle;\n",
       "    }\n",
       "\n",
       "    .dataframe tbody tr th {\n",
       "        vertical-align: top;\n",
       "    }\n",
       "\n",
       "    .dataframe thead th {\n",
       "        text-align: right;\n",
       "    }\n",
       "</style>\n",
       "<table border=\"1\" class=\"dataframe\">\n",
       "  <thead>\n",
       "    <tr style=\"text-align: right;\">\n",
       "      <th></th>\n",
       "      <th>target</th>\n",
       "    </tr>\n",
       "  </thead>\n",
       "  <tbody>\n",
       "    <tr>\n",
       "      <th>0</th>\n",
       "      <td>80000</td>\n",
       "    </tr>\n",
       "    <tr>\n",
       "      <th>1</th>\n",
       "      <td>80000</td>\n",
       "    </tr>\n",
       "    <tr>\n",
       "      <th>2</th>\n",
       "      <td>80000</td>\n",
       "    </tr>\n",
       "    <tr>\n",
       "      <th>3</th>\n",
       "      <td>80000</td>\n",
       "    </tr>\n",
       "    <tr>\n",
       "      <th>4</th>\n",
       "      <td>80000</td>\n",
       "    </tr>\n",
       "  </tbody>\n",
       "</table>\n",
       "</div>"
      ],
      "text/plain": [
       "   target\n",
       "0   80000\n",
       "1   80000\n",
       "2   80000\n",
       "3   80000\n",
       "4   80000"
      ]
     },
     "execution_count": 88,
     "metadata": {},
     "output_type": "execute_result"
    }
   ],
   "source": [
    "res=pd.DataFrame({'target':y_pred})\n",
    "res.head()"
   ]
  },
  {
   "cell_type": "markdown",
   "metadata": {},
   "source": [
    "#### Save and load the best data"
   ]
  },
  {
   "cell_type": "code",
   "execution_count": 89,
   "metadata": {},
   "outputs": [
    {
     "data": {
      "text/plain": [
       "['best_model.pkl']"
      ]
     },
     "execution_count": 89,
     "metadata": {},
     "output_type": "execute_result"
    }
   ],
   "source": [
    "import joblib\n",
    "best_model=res\n",
    "joblib.dump(best_model,'best_model.pkl')"
   ]
  },
  {
   "cell_type": "markdown",
   "metadata": {},
   "source": [
    "#### Loaded the saved data"
   ]
  },
  {
   "cell_type": "code",
   "execution_count": 90,
   "metadata": {},
   "outputs": [],
   "source": [
    "loaded_model=joblib.load('best_model.pkl')"
   ]
  }
 ],
 "metadata": {
  "kernelspec": {
   "display_name": "Python 3",
   "language": "python",
   "name": "python3"
  },
  "language_info": {
   "codemirror_mode": {
    "name": "ipython",
    "version": 3
   },
   "file_extension": ".py",
   "mimetype": "text/x-python",
   "name": "python",
   "nbconvert_exporter": "python",
   "pygments_lexer": "ipython3",
   "version": "3.7.3"
  }
 },
 "nbformat": 4,
 "nbformat_minor": 2
}
